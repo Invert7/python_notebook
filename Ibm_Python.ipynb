{
 "cells": [
  {
   "cell_type": "markdown",
   "id": "7aa24cbd-9fac-464b-9a6f-e0a70879483f",
   "metadata": {},
   "source": [
    "# IMB Python Notes"
   ]
  },
  {
   "cell_type": "markdown",
   "id": "6c07a135-7d9b-42f3-a533-709577763f06",
   "metadata": {
    "jp-MarkdownHeadingCollapsed": true,
    "tags": []
   },
   "source": [
    "### Version Check\n",
    "- This is how you can check what python version you are running"
   ]
  },
  {
   "cell_type": "code",
   "execution_count": 50,
   "id": "80b46fa0-7b6f-4c2e-aca5-704f2164f323",
   "metadata": {
    "tags": []
   },
   "outputs": [
    {
     "name": "stdout",
     "output_type": "stream",
     "text": [
      "3.11.4 | packaged by Anaconda, Inc. | (main, Jul  5 2023, 13:38:37) [MSC v.1916 64 bit (AMD64)]\n"
     ]
    }
   ],
   "source": [
    "import sys\n",
    "print(sys.version)"
   ]
  },
  {
   "cell_type": "markdown",
   "id": "5929f8b7-6ade-49fc-b4d5-27d8e94a0396",
   "metadata": {
    "jp-MarkdownHeadingCollapsed": true,
    "tags": []
   },
   "source": [
    "### Types\n",
    "- The basic types are intagers , Floats and Strings\n",
    "- You can verify the type by using the type() expression"
   ]
  },
  {
   "cell_type": "code",
   "execution_count": 3,
   "id": "8ea98860-c71f-4bc9-ae1f-6a18328c470d",
   "metadata": {
    "tags": []
   },
   "outputs": [
    {
     "data": {
      "text/plain": [
       "8"
      ]
     },
     "execution_count": 3,
     "metadata": {},
     "output_type": "execute_result"
    }
   ],
   "source": [
    "#int\n",
    "8"
   ]
  },
  {
   "cell_type": "code",
   "execution_count": 4,
   "id": "911de940-4bfb-4c98-b1d8-5d06ae247f4e",
   "metadata": {
    "tags": []
   },
   "outputs": [
    {
     "data": {
      "text/plain": [
       "23.223"
      ]
     },
     "execution_count": 4,
     "metadata": {},
     "output_type": "execute_result"
    }
   ],
   "source": [
    "#float\n",
    "23.223"
   ]
  },
  {
   "cell_type": "code",
   "execution_count": 5,
   "id": "7c391e01-79c9-4649-8516-517467b62a4a",
   "metadata": {
    "tags": []
   },
   "outputs": [
    {
     "name": "stdout",
     "output_type": "stream",
     "text": [
      "Hello World\n"
     ]
    }
   ],
   "source": [
    "#string\n",
    "print(\"Hello World\")"
   ]
  },
  {
   "cell_type": "markdown",
   "id": "2b5e7cf0-e285-4343-bd97-9b8bd7574787",
   "metadata": {
    "jp-MarkdownHeadingCollapsed": true,
    "tags": []
   },
   "source": [
    "#### Type casting\n",
    "You can change the value of the type by type casting"
   ]
  },
  {
   "cell_type": "code",
   "execution_count": 18,
   "id": "30877ade-f690-46bd-953b-fcec6586acdc",
   "metadata": {
    "tags": []
   },
   "outputs": [
    {
     "data": {
      "text/plain": [
       "7.0"
      ]
     },
     "execution_count": 18,
     "metadata": {},
     "output_type": "execute_result"
    }
   ],
   "source": [
    "# Int to float\n",
    "float(7)"
   ]
  },
  {
   "cell_type": "code",
   "execution_count": 8,
   "id": "210191e0-08c8-4618-964c-e9d331d01039",
   "metadata": {
    "tags": []
   },
   "outputs": [
    {
     "data": {
      "text/plain": [
       "5"
      ]
     },
     "execution_count": 8,
     "metadata": {},
     "output_type": "execute_result"
    }
   ],
   "source": [
    "# float to int (Before careful with this, you will clip the number)\n",
    "int(5.6)"
   ]
  },
  {
   "cell_type": "code",
   "execution_count": 9,
   "id": "610399e7-db36-4694-9cfa-161b2b72aebb",
   "metadata": {
    "tags": []
   },
   "outputs": [
    {
     "data": {
      "text/plain": [
       "1.0"
      ]
     },
     "execution_count": 9,
     "metadata": {},
     "output_type": "execute_result"
    }
   ],
   "source": [
    "#Str to float ect\n",
    "float('1')"
   ]
  },
  {
   "cell_type": "code",
   "execution_count": 10,
   "id": "5b334d5b-ae4f-4e3c-b5d4-239503a3ed49",
   "metadata": {
    "tags": []
   },
   "outputs": [
    {
     "data": {
      "text/plain": [
       "'7'"
      ]
     },
     "execution_count": 10,
     "metadata": {},
     "output_type": "execute_result"
    }
   ],
   "source": [
    "# str to int\n",
    "str(7)"
   ]
  },
  {
   "cell_type": "code",
   "execution_count": 11,
   "id": "74e8f53b-38db-488e-afe1-1f2a1c1b7aeb",
   "metadata": {
    "tags": []
   },
   "outputs": [],
   "source": [
    "# You can also cast Booleans"
   ]
  },
  {
   "cell_type": "code",
   "execution_count": 13,
   "id": "ec8cb5a9-4133-481a-ab9d-be7227e9d7f9",
   "metadata": {
    "tags": []
   },
   "outputs": [
    {
     "data": {
      "text/plain": [
       "'True'"
      ]
     },
     "execution_count": 13,
     "metadata": {},
     "output_type": "execute_result"
    }
   ],
   "source": [
    "# true to str\n",
    "str(True)"
   ]
  },
  {
   "cell_type": "code",
   "execution_count": 14,
   "id": "da89d554-f229-413e-9656-cdb443c87102",
   "metadata": {
    "tags": []
   },
   "outputs": [
    {
     "data": {
      "text/plain": [
       "1"
      ]
     },
     "execution_count": 14,
     "metadata": {},
     "output_type": "execute_result"
    }
   ],
   "source": [
    "int(True)"
   ]
  },
  {
   "cell_type": "code",
   "execution_count": 51,
   "id": "d019bbfc-6185-4d60-b391-32bda607176e",
   "metadata": {
    "tags": []
   },
   "outputs": [
    {
     "data": {
      "text/plain": [
       "int"
      ]
     },
     "execution_count": 51,
     "metadata": {},
     "output_type": "execute_result"
    }
   ],
   "source": [
    "type(7)"
   ]
  },
  {
   "cell_type": "markdown",
   "id": "ecc1f878-aedd-4bc2-b532-930837336bcf",
   "metadata": {
    "jp-MarkdownHeadingCollapsed": true,
    "tags": []
   },
   "source": [
    "### Expressions and Variables\n",
    "Expressions describe a type of operation the computers perform. Expressions are operations the python performs.\n",
    "- Example: (43 + 60 +16 + 41). We  call the numbers __operands__ and the math symbols are called __operators__\n",
    "- Python follows mathematical conventions when performing mathematical expressions"
   ]
  },
  {
   "cell_type": "code",
   "execution_count": 15,
   "id": "77842777-93ec-4e97-a0f7-8edd72041d9d",
   "metadata": {
    "tags": []
   },
   "outputs": [
    {
     "data": {
      "text/plain": [
       "0.0"
      ]
     },
     "execution_count": 15,
     "metadata": {},
     "output_type": "execute_result"
    }
   ],
   "source": [
    "float(False)"
   ]
  },
  {
   "cell_type": "markdown",
   "id": "0213153a-f470-4ade-9981-41244b7c2ec0",
   "metadata": {
    "tags": []
   },
   "source": [
    "#### Expressions"
   ]
  },
  {
   "cell_type": "code",
   "execution_count": 19,
   "id": "170f9945-ba71-4237-ab56-c84134dc84d7",
   "metadata": {
    "tags": []
   },
   "outputs": [
    {
     "data": {
      "text/plain": [
       "15"
      ]
     },
     "execution_count": 19,
     "metadata": {},
     "output_type": "execute_result"
    }
   ],
   "source": [
    "#addition\n",
    "5 + 10"
   ]
  },
  {
   "cell_type": "code",
   "execution_count": 20,
   "id": "d83e0f3d-b5ab-482c-b274-6566f2ce9223",
   "metadata": {
    "tags": []
   },
   "outputs": [
    {
     "data": {
      "text/plain": [
       "-3"
      ]
     },
     "execution_count": 20,
     "metadata": {},
     "output_type": "execute_result"
    }
   ],
   "source": [
    "#Subtraction\n",
    "6-9"
   ]
  },
  {
   "cell_type": "code",
   "execution_count": 21,
   "id": "f6736dd6-8186-44aa-af02-abc1bc543afa",
   "metadata": {
    "tags": []
   },
   "outputs": [
    {
     "data": {
      "text/plain": [
       "0.5416666666666666"
      ]
     },
     "execution_count": 21,
     "metadata": {},
     "output_type": "execute_result"
    }
   ],
   "source": [
    "#division \n",
    "13/24"
   ]
  },
  {
   "cell_type": "code",
   "execution_count": 22,
   "id": "d1cab08c-f3d8-4754-a6da-9a457a84481a",
   "metadata": {
    "tags": []
   },
   "outputs": [
    {
     "data": {
      "text/plain": [
       "12"
      ]
     },
     "execution_count": 22,
     "metadata": {},
     "output_type": "execute_result"
    }
   ],
   "source": [
    "#multiplication\n",
    "3*4"
   ]
  },
  {
   "cell_type": "code",
   "execution_count": 35,
   "id": "87d6b082-89b0-4f82-b116-d86b269522bb",
   "metadata": {
    "tags": []
   },
   "outputs": [
    {
     "name": "stdout",
     "output_type": "stream",
     "text": [
      "4\n",
      "4.166666666666667\n"
     ]
    }
   ],
   "source": [
    "# You can also use // to divide and result in a rounded result\n",
    "print(25//6)\n",
    "print(25/6)\n"
   ]
  },
  {
   "cell_type": "code",
   "execution_count": 37,
   "id": "ed2dcf0a-14ac-494b-9601-1359dbd2799a",
   "metadata": {
    "tags": []
   },
   "outputs": [
    {
     "data": {
      "text/plain": [
       "5"
      ]
     },
     "execution_count": 37,
     "metadata": {},
     "output_type": "execute_result"
    }
   ],
   "source": [
    "11//2"
   ]
  },
  {
   "cell_type": "markdown",
   "id": "58474e45-1eac-467f-8d93-b9e27bbbdead",
   "metadata": {},
   "source": [
    "#### Variables\n",
    "- We use variables to store values\n",
    "- It's good practice to use meaningful variable names; so, you don't have to keep track of what the variable is doing"
   ]
  },
  {
   "cell_type": "code",
   "execution_count": 38,
   "id": "10d20d85-c256-44d3-ab57-378ab8830759",
   "metadata": {
    "tags": []
   },
   "outputs": [],
   "source": [
    "my_variable = 1"
   ]
  },
  {
   "cell_type": "code",
   "execution_count": 40,
   "id": "f930a763-7fd5-4701-881b-bfc00fd7ed4e",
   "metadata": {
    "tags": []
   },
   "outputs": [
    {
     "name": "stdout",
     "output_type": "stream",
     "text": [
      "1\n"
     ]
    }
   ],
   "source": [
    "print(my_variable)"
   ]
  },
  {
   "cell_type": "code",
   "execution_count": 43,
   "id": "85422bf0-98cd-4f8d-9318-af747ff958b0",
   "metadata": {
    "tags": []
   },
   "outputs": [],
   "source": [
    "my_variable = 24 +13 +123"
   ]
  },
  {
   "cell_type": "code",
   "execution_count": 46,
   "id": "cc47347c-db35-4dd2-ac02-739b89ccc62f",
   "metadata": {
    "tags": []
   },
   "outputs": [],
   "source": [
    "my_variable = my_variable * 2"
   ]
  },
  {
   "cell_type": "code",
   "execution_count": 47,
   "id": "a2d77c15-20f7-464d-9298-2cb6e8c13a56",
   "metadata": {
    "tags": []
   },
   "outputs": [
    {
     "name": "stdout",
     "output_type": "stream",
     "text": [
      "640\n"
     ]
    }
   ],
   "source": [
    "print(my_variable)"
   ]
  },
  {
   "cell_type": "code",
   "execution_count": 49,
   "id": "7e5b8326-92a4-4516-8c4d-e7ec1ec72489",
   "metadata": {
    "tags": []
   },
   "outputs": [
    {
     "name": "stdout",
     "output_type": "stream",
     "text": [
      "1.5\n"
     ]
    }
   ],
   "source": [
    "# Example : We want to convert a time colume in a data set. The current value is set in hours and we want to convert to mins\n",
    "\n",
    "total_min = 43 +23 + 24\n",
    "total_hour = total_min /60\n",
    "print(total_hour)"
   ]
  },
  {
   "cell_type": "markdown",
   "id": "3c59d1be-84c3-44ff-8cad-0e7a1eb9c3a9",
   "metadata": {
    "jp-MarkdownHeadingCollapsed": true,
    "tags": []
   },
   "source": [
    "### String Operations\n",
    "- A string is contained within two quotes\n",
    "- Can also use single quotes\n",
    "- Can also be special charaters\n",
    "- Can also be digits\n",
    "It is helpful to think of a string as an ordered sequence. Each element in the squence can be accessed using indexing starting at 0"
   ]
  },
  {
   "cell_type": "code",
   "execution_count": 57,
   "id": "5ae65cee-c497-427c-b9a9-f3a68a61defe",
   "metadata": {
    "tags": []
   },
   "outputs": [
    {
     "data": {
      "text/plain": [
       "'Hello world'"
      ]
     },
     "execution_count": 57,
     "metadata": {},
     "output_type": "execute_result"
    }
   ],
   "source": [
    "# Two quotes\n",
    "\"Hello world\""
   ]
  },
  {
   "cell_type": "code",
   "execution_count": 58,
   "id": "a88a9478-4417-4b00-9be4-7f104f51bbe3",
   "metadata": {
    "tags": []
   },
   "outputs": [
    {
     "data": {
      "text/plain": [
       "'Hello world'"
      ]
     },
     "execution_count": 58,
     "metadata": {},
     "output_type": "execute_result"
    }
   ],
   "source": [
    "# Single quotes\n",
    "'Hello world'"
   ]
  },
  {
   "cell_type": "code",
   "execution_count": 59,
   "id": "777bc1f5-34f4-4f9f-8831-4b5aa33676f2",
   "metadata": {
    "tags": []
   },
   "outputs": [
    {
     "data": {
      "text/plain": [
       "'$7(#$&(*'"
      ]
     },
     "execution_count": 59,
     "metadata": {},
     "output_type": "execute_result"
    }
   ],
   "source": [
    "#Special charaters\n",
    "\"$7(#$&(*\""
   ]
  },
  {
   "cell_type": "code",
   "execution_count": 56,
   "id": "95126ba2-5a54-47b2-b1f9-c3f38ca08689",
   "metadata": {
    "tags": []
   },
   "outputs": [
    {
     "data": {
      "text/plain": [
       "'3453514'"
      ]
     },
     "execution_count": 56,
     "metadata": {},
     "output_type": "execute_result"
    }
   ],
   "source": [
    "# Digits\n",
    "\"3453514\""
   ]
  },
  {
   "cell_type": "markdown",
   "id": "7a374fc0-eebb-46d4-b201-9b9b50ba0f8b",
   "metadata": {
    "jp-MarkdownHeadingCollapsed": true,
    "tags": []
   },
   "source": [
    "#### Indexing"
   ]
  },
  {
   "cell_type": "code",
   "execution_count": 61,
   "id": "5a1a18be-1279-4598-809b-0707140f4114",
   "metadata": {
    "tags": []
   },
   "outputs": [],
   "source": [
    "# Indexing\n",
    "# Name = Michael Jackson\n",
    "#        0123456 7 8910111211314\n",
    "name = \"michael jackson\""
   ]
  },
  {
   "cell_type": "code",
   "execution_count": 62,
   "id": "f4594591-e4f2-465e-80a5-8b21fee28ac1",
   "metadata": {
    "tags": []
   },
   "outputs": [
    {
     "data": {
      "text/plain": [
       "'m'"
      ]
     },
     "execution_count": 62,
     "metadata": {},
     "output_type": "execute_result"
    }
   ],
   "source": [
    "# You can index by calling the variable and brackets, then specifiy the location of the letter\n",
    "name[0]"
   ]
  },
  {
   "cell_type": "code",
   "execution_count": 63,
   "id": "dc69a1d7-0fd3-49f4-9df5-a2f8f237ad99",
   "metadata": {
    "tags": []
   },
   "outputs": [
    {
     "data": {
      "text/plain": [
       "'i'"
      ]
     },
     "execution_count": 63,
     "metadata": {},
     "output_type": "execute_result"
    }
   ],
   "source": [
    "name[1]"
   ]
  },
  {
   "cell_type": "code",
   "execution_count": 64,
   "id": "4e1f58ac-c3d8-40ed-b7a1-331e1b52d3e4",
   "metadata": {
    "tags": []
   },
   "outputs": [],
   "source": [
    "# Can also use negative indexing\n",
    "# negative Indexing\n",
    "# Name = Michael Jackson\n",
    "#        -15|-14|-13|-12|-11|-10|-9| |-7|-6|-5|-4|-3|-2|-1\n",
    "name = \"michael jackson\""
   ]
  },
  {
   "cell_type": "code",
   "execution_count": 65,
   "id": "b3a374b9-6ea3-41a6-bfa5-9ff69cdc5aad",
   "metadata": {
    "tags": []
   },
   "outputs": [
    {
     "data": {
      "text/plain": [
       "'k'"
      ]
     },
     "execution_count": 65,
     "metadata": {},
     "output_type": "execute_result"
    }
   ],
   "source": [
    "name[-4]"
   ]
  },
  {
   "cell_type": "code",
   "execution_count": 66,
   "id": "c22f57b0-9d17-4528-8305-05f6fbf0471f",
   "metadata": {
    "tags": []
   },
   "outputs": [
    {
     "data": {
      "text/plain": [
       "'m'"
      ]
     },
     "execution_count": 66,
     "metadata": {},
     "output_type": "execute_result"
    }
   ],
   "source": [
    "name[-15]"
   ]
  },
  {
   "cell_type": "markdown",
   "id": "3c61c3ef-9656-4e55-91a4-5caf35530f45",
   "metadata": {},
   "source": [
    "#### Slicing\n",
    "- We can select a range of elements"
   ]
  },
  {
   "cell_type": "code",
   "execution_count": 67,
   "id": "ae9ed456-831e-4f05-96b3-5616c2f97e11",
   "metadata": {
    "tags": []
   },
   "outputs": [
    {
     "data": {
      "text/plain": [
       "'chael '"
      ]
     },
     "execution_count": 67,
     "metadata": {},
     "output_type": "execute_result"
    }
   ],
   "source": [
    "name[2:8]"
   ]
  },
  {
   "cell_type": "code",
   "execution_count": 68,
   "id": "bb9892d8-7078-4189-9248-86faef42d1d5",
   "metadata": {
    "tags": []
   },
   "outputs": [],
   "source": [
    "# If we also input a Stride value"
   ]
  },
  {
   "cell_type": "code",
   "execution_count": 69,
   "id": "8363a00d-d10d-4cad-944e-3133d2b239f5",
   "metadata": {
    "tags": []
   },
   "outputs": [
    {
     "data": {
      "text/plain": [
       "'mcaljcsn'"
      ]
     },
     "execution_count": 69,
     "metadata": {},
     "output_type": "execute_result"
    }
   ],
   "source": [
    "#The two indicates we select every secound variable\n",
    "name[::2]"
   ]
  },
  {
   "cell_type": "code",
   "execution_count": 70,
   "id": "c529392f-a00a-40c5-8e70-ffed9b5368fa",
   "metadata": {
    "tags": []
   },
   "outputs": [
    {
     "data": {
      "text/plain": [
       "'mca'"
      ]
     },
     "execution_count": 70,
     "metadata": {},
     "output_type": "execute_result"
    }
   ],
   "source": [
    "# We can also incorprate slicing\n",
    "name[0:5:2]"
   ]
  },
  {
   "cell_type": "code",
   "execution_count": 71,
   "id": "1d4416db-101a-4770-98b5-0659efa5c596",
   "metadata": {
    "tags": []
   },
   "outputs": [],
   "source": [
    "# can use the length command len() to find the length of the tuple or string"
   ]
  },
  {
   "cell_type": "code",
   "execution_count": 72,
   "id": "9e1e94f0-b90e-4312-8ed0-30461d930a93",
   "metadata": {
    "tags": []
   },
   "outputs": [
    {
     "data": {
      "text/plain": [
       "15"
      ]
     },
     "execution_count": 72,
     "metadata": {},
     "output_type": "execute_result"
    }
   ],
   "source": [
    "len(name)"
   ]
  },
  {
   "cell_type": "markdown",
   "id": "089695d7-c0c5-4e2b-a79a-42158ca89c05",
   "metadata": {
    "jp-MarkdownHeadingCollapsed": true,
    "tags": []
   },
   "source": [
    "#### Concatenate or combine strings"
   ]
  },
  {
   "cell_type": "code",
   "execution_count": 75,
   "id": "dab28636-e227-4edc-b10b-2b593be20489",
   "metadata": {
    "tags": []
   },
   "outputs": [],
   "source": [
    "\n",
    "statement = name + \" is cool\""
   ]
  },
  {
   "cell_type": "code",
   "execution_count": 76,
   "id": "f1b365df-952d-46ce-ade7-9cfbef78f30f",
   "metadata": {
    "tags": []
   },
   "outputs": [
    {
     "name": "stdout",
     "output_type": "stream",
     "text": [
      "michael jackson is cool\n"
     ]
    }
   ],
   "source": [
    "print(statement)"
   ]
  },
  {
   "cell_type": "code",
   "execution_count": 73,
   "id": "d8cd15b7-5c3c-4ee1-8678-13a84893718a",
   "metadata": {
    "tags": []
   },
   "outputs": [
    {
     "data": {
      "text/plain": [
       "11"
      ]
     },
     "execution_count": 73,
     "metadata": {},
     "output_type": "execute_result"
    }
   ],
   "source": [
    "len(\"Hello World\")"
   ]
  },
  {
   "cell_type": "code",
   "execution_count": 77,
   "id": "68a8b329-1421-4c65-8fce-dce24f9f5005",
   "metadata": {
    "tags": []
   },
   "outputs": [],
   "source": [
    "#### replicate the value of a string"
   ]
  },
  {
   "cell_type": "code",
   "execution_count": 78,
   "id": "c961e110-2d4b-4560-b15f-72105ecd014b",
   "metadata": {
    "tags": []
   },
   "outputs": [
    {
     "data": {
      "text/plain": [
       "'michael jacksonmichael jacksonmichael jackson'"
      ]
     },
     "execution_count": 78,
     "metadata": {},
     "output_type": "execute_result"
    }
   ],
   "source": [
    "name * 3"
   ]
  },
  {
   "cell_type": "code",
   "execution_count": 79,
   "id": "5148c840-4756-4c40-afe3-ec1692939069",
   "metadata": {
    "tags": []
   },
   "outputs": [
    {
     "data": {
      "text/plain": [
       "'hello worldhello worldhello world'"
      ]
     },
     "execution_count": 79,
     "metadata": {},
     "output_type": "execute_result"
    }
   ],
   "source": [
    "\"hello world\" * 3"
   ]
  },
  {
   "cell_type": "markdown",
   "id": "98147d57-3905-45ad-9f66-13cde89aafce",
   "metadata": {
    "tags": []
   },
   "source": [
    "#### Escape sequences\n",
    "- \\ are meant to process escape sequences\n",
    "- escape sequences are strings that are difficult to input"
   ]
  },
  {
   "cell_type": "code",
   "execution_count": 80,
   "id": "e7d45530-251b-4de8-8525-c4d36d27fd7f",
   "metadata": {
    "tags": []
   },
   "outputs": [
    {
     "name": "stdout",
     "output_type": "stream",
     "text": [
      "Michael Jackson \n",
      " is the best\n"
     ]
    }
   ],
   "source": [
    "# /n represents enter\n",
    "print(\"Michael Jackson \\n is the best\")"
   ]
  },
  {
   "cell_type": "code",
   "execution_count": 81,
   "id": "78c7b44e-29f3-4e53-bb38-aafeaa76da4c",
   "metadata": {
    "tags": []
   },
   "outputs": [
    {
     "name": "stdout",
     "output_type": "stream",
     "text": [
      "Michael Jackson \t is the best\n"
     ]
    }
   ],
   "source": [
    "# /t represents Tab\n",
    "print(\"Michael Jackson \\t is the best\")"
   ]
  },
  {
   "cell_type": "code",
   "execution_count": 82,
   "id": "05c5faa0-d149-4151-a6a7-e936c8fcdbee",
   "metadata": {
    "tags": []
   },
   "outputs": [
    {
     "name": "stdout",
     "output_type": "stream",
     "text": [
      "Michael Jackson \\ is the best\n"
     ]
    }
   ],
   "source": [
    "# if you want to and a backslash to your string \n",
    "print(\"Michael Jackson \\\\ is the best\")"
   ]
  },
  {
   "cell_type": "markdown",
   "id": "97bb8d94-f1a3-4fa3-90f8-b2203ca55c90",
   "metadata": {
    "tags": []
   },
   "source": [
    "#### String Methods\n",
    "- Strings are sequences and as such, have apply methods that work on lists and tuples. Strings also have a second set of methods that just work on strings.\n",
    "- When an method is applied it creates a new string ie. A + Method = B"
   ]
  },
  {
   "cell_type": "code",
   "execution_count": 1,
   "id": "d28da952-cbae-4305-9932-8a01f9bb0dae",
   "metadata": {
    "tags": []
   },
   "outputs": [
    {
     "name": "stdout",
     "output_type": "stream",
     "text": [
      "thriller is the sixth studio album\n"
     ]
    }
   ],
   "source": [
    "a = \"thriller is the sixth studio album\"\n",
    "print(a)"
   ]
  },
  {
   "cell_type": "markdown",
   "id": "f5f076e7-afcd-44fa-916c-352b87963b4c",
   "metadata": {},
   "source": [
    "##### Upper"
   ]
  },
  {
   "cell_type": "code",
   "execution_count": 2,
   "id": "bee56648-37f2-4e44-89f7-948629c683d0",
   "metadata": {
    "tags": []
   },
   "outputs": [
    {
     "name": "stdout",
     "output_type": "stream",
     "text": [
      "THRILLER IS THE SIXTH STUDIO ALBUM\n"
     ]
    }
   ],
   "source": [
    "# Using upper to capitilze all charaters in the string\n",
    "b = a.upper()\n",
    "print(b)"
   ]
  },
  {
   "cell_type": "markdown",
   "id": "0fb9745c-0249-4bc3-8e24-cd46bbbd3d63",
   "metadata": {
    "tags": []
   },
   "source": [
    "##### Replace"
   ]
  },
  {
   "cell_type": "code",
   "execution_count": 5,
   "id": "9342e659-632e-42a7-b1d1-a629aeb4b5be",
   "metadata": {
    "tags": []
   },
   "outputs": [
    {
     "name": "stdout",
     "output_type": "stream",
     "text": [
      "Janet jackson is the best\n"
     ]
    }
   ],
   "source": [
    "# Replace. You input the part of the string you want to change. For example replacing 'michael with 'janet'\n",
    "a = 'Michael jackson is the best'\n",
    "b = a.replace('Michael','Janet')\n",
    "print(b)\n"
   ]
  },
  {
   "cell_type": "markdown",
   "id": "35ef3ad9-6610-4164-a67d-a72ca1277ce8",
   "metadata": {},
   "source": [
    "##### Find"
   ]
  },
  {
   "cell_type": "code",
   "execution_count": 7,
   "id": "f536fd9e-e053-4661-a09f-8be2d02ed4cc",
   "metadata": {
    "tags": []
   },
   "outputs": [],
   "source": [
    "# We use find to locate substrings. It prints the value of the START of the substring. If nothing is found it will result in a -1"
   ]
  },
  {
   "cell_type": "code",
   "execution_count": 10,
   "id": "44b317d2-a05e-41c5-b800-e6462dd5b6d8",
   "metadata": {
    "tags": []
   },
   "outputs": [
    {
     "data": {
      "text/plain": [
       "5"
      ]
     },
     "execution_count": 10,
     "metadata": {},
     "output_type": "execute_result"
    }
   ],
   "source": [
    "Name = \"Michael Jackson\"\n",
    "Name.find('el')"
   ]
  },
  {
   "cell_type": "code",
   "execution_count": 13,
   "id": "019b612c-3681-4fc2-b8d8-4f5829cd6464",
   "metadata": {
    "tags": []
   },
   "outputs": [
    {
     "data": {
      "text/plain": [
       "8"
      ]
     },
     "execution_count": 13,
     "metadata": {},
     "output_type": "execute_result"
    }
   ],
   "source": [
    "Name.find('Jack')"
   ]
  },
  {
   "cell_type": "code",
   "execution_count": 20,
   "id": "22bb8ade-04f8-4d0a-8f02-f274424283cc",
   "metadata": {
    "tags": []
   },
   "outputs": [
    {
     "data": {
      "text/plain": [
       "-1"
      ]
     },
     "execution_count": 20,
     "metadata": {},
     "output_type": "execute_result"
    }
   ],
   "source": [
    "Name.find('$$')"
   ]
  },
  {
   "cell_type": "markdown",
   "id": "1fb0d917-8b6b-45b2-aee7-9be5cc284850",
   "metadata": {
    "tags": []
   },
   "source": [
    "### Tuples\n",
    "- Tubles are and ordered sequence\n",
    "- Here is a Tuple \"Ratings\"\n",
    "- Tuples are written as comma-separated elements within parentheses\n",
    "- ex Ratings= (10,9,8,7,6,5,4,3,2,1,)\n",
    "- Types of tubles are string, int, and float\n",
    "- ex tuple1= ('disco',10,1.2)\n",
    "- Tuples are __IMMUTABLE__"
   ]
  },
  {
   "cell_type": "code",
   "execution_count": 21,
   "id": "e7413484-ec81-45c7-9f03-51316fbba85f",
   "metadata": {
    "tags": []
   },
   "outputs": [],
   "source": [
    "tuple1= (\"disco\",10,1.2)"
   ]
  },
  {
   "cell_type": "code",
   "execution_count": 22,
   "id": "b965d35e-3251-4f40-9d80-1537b68f7c61",
   "metadata": {
    "tags": []
   },
   "outputs": [
    {
     "data": {
      "text/plain": [
       "tuple"
      ]
     },
     "execution_count": 22,
     "metadata": {},
     "output_type": "execute_result"
    }
   ],
   "source": [
    "type(tuple1)"
   ]
  },
  {
   "cell_type": "code",
   "execution_count": 23,
   "id": "ede1f912-dfb3-4404-8781-32d2afaa26df",
   "metadata": {
    "tags": []
   },
   "outputs": [
    {
     "data": {
      "text/plain": [
       "10"
      ]
     },
     "execution_count": 23,
     "metadata": {},
     "output_type": "execute_result"
    }
   ],
   "source": [
    "# You can index a tuple in the same way you can index strings\n",
    "tuple1[1]"
   ]
  },
  {
   "cell_type": "code",
   "execution_count": 24,
   "id": "14c9efbd-502b-4532-89c3-658b0ad7ddda",
   "metadata": {
    "tags": []
   },
   "outputs": [
    {
     "data": {
      "text/plain": [
       "'disco'"
      ]
     },
     "execution_count": 24,
     "metadata": {},
     "output_type": "execute_result"
    }
   ],
   "source": [
    "# you can also use negative index\n",
    "tuple1[-3]"
   ]
  },
  {
   "cell_type": "code",
   "execution_count": 25,
   "id": "e0fd1674-bd5b-4cb1-b8eb-3657ec20cf95",
   "metadata": {
    "tags": []
   },
   "outputs": [],
   "source": [
    "# you can concatenate or combine tuples by adding them"
   ]
  },
  {
   "cell_type": "code",
   "execution_count": 29,
   "id": "72c7c3ca-872c-45d7-95b4-5cd5a53c7540",
   "metadata": {
    "tags": []
   },
   "outputs": [
    {
     "name": "stdout",
     "output_type": "stream",
     "text": [
      "('disco', 10, 1.2, 'hard rock', 4, 3.2)\n"
     ]
    }
   ],
   "source": [
    "print(tuple1 + (\"hard rock\",4,3.2))"
   ]
  },
  {
   "cell_type": "code",
   "execution_count": 30,
   "id": "65bf88a6-0a08-4aff-8d6a-f2ae3c8474b7",
   "metadata": {
    "tags": []
   },
   "outputs": [
    {
     "data": {
      "text/plain": [
       "('disco', 10, 1.2)"
      ]
     },
     "execution_count": 30,
     "metadata": {},
     "output_type": "execute_result"
    }
   ],
   "source": [
    "# slicing\n",
    "tuple1[:3]"
   ]
  },
  {
   "cell_type": "code",
   "execution_count": 31,
   "id": "02a00972-cf93-41ed-b6fc-d88726730255",
   "metadata": {
    "tags": []
   },
   "outputs": [
    {
     "data": {
      "text/plain": [
       "(10, 1.2)"
      ]
     },
     "execution_count": 31,
     "metadata": {},
     "output_type": "execute_result"
    }
   ],
   "source": [
    "tuple1[1:3]"
   ]
  },
  {
   "cell_type": "code",
   "execution_count": 34,
   "id": "82e55bcc-7076-4041-92eb-85a68d0be603",
   "metadata": {
    "tags": []
   },
   "outputs": [
    {
     "data": {
      "text/plain": [
       "3"
      ]
     },
     "execution_count": 34,
     "metadata": {},
     "output_type": "execute_result"
    }
   ],
   "source": [
    "# can also use the len() to get the legnth of the tuple\n",
    "len(tuple1)"
   ]
  },
  {
   "cell_type": "code",
   "execution_count": 43,
   "id": "86ede8ac-66cb-43e7-bf45-d6f36748d60b",
   "metadata": {
    "tags": []
   },
   "outputs": [
    {
     "name": "stdout",
     "output_type": "stream",
     "text": [
      "[2, 4, 5, 5, 6, 7, 10]\n"
     ]
    }
   ],
   "source": [
    "# If you would like to maniplute a tuple, you need to assign it to a new variable\n",
    "ratings = (10,5,4,5,6,7,2)\n",
    "ratings1 = sorted(ratings)\n",
    "print(ratings1)"
   ]
  },
  {
   "cell_type": "markdown",
   "id": "2116cccc-dcfa-425e-9413-f86ee527fcb6",
   "metadata": {
    "tags": []
   },
   "source": [
    "#### Nesting\n",
    "- You can index in that standard way\n",
    "- You can also index the subindex ex. nt[3][0]\n",
    "- You can also inex futher nt[2][0][1]"
   ]
  },
  {
   "cell_type": "code",
   "execution_count": 57,
   "id": "ee91c17b-3cfe-4d41-91a1-0f630f7cd6b5",
   "metadata": {
    "tags": []
   },
   "outputs": [],
   "source": [
    "nt = (1,2,(\"Pop\",\"rock\"), (3,4), (\"disco\", (1,2)))"
   ]
  },
  {
   "cell_type": "code",
   "execution_count": 58,
   "id": "f13d68d0-2440-4237-a8cf-7a6daf36ba10",
   "metadata": {
    "tags": []
   },
   "outputs": [
    {
     "data": {
      "text/plain": [
       "(3, 4)"
      ]
     },
     "execution_count": 58,
     "metadata": {},
     "output_type": "execute_result"
    }
   ],
   "source": [
    "nt[3]"
   ]
  },
  {
   "cell_type": "code",
   "execution_count": 59,
   "id": "5fd3f84b-2bf5-4ea2-9053-19d2e4bb63c3",
   "metadata": {
    "tags": []
   },
   "outputs": [
    {
     "data": {
      "text/plain": [
       "2"
      ]
     },
     "execution_count": 59,
     "metadata": {},
     "output_type": "execute_result"
    }
   ],
   "source": [
    "nt[1]"
   ]
  },
  {
   "cell_type": "code",
   "execution_count": 60,
   "id": "aa22872c-7e4a-4a9d-8d68-521d53cd052c",
   "metadata": {
    "tags": []
   },
   "outputs": [
    {
     "data": {
      "text/plain": [
       "3"
      ]
     },
     "execution_count": 60,
     "metadata": {},
     "output_type": "execute_result"
    }
   ],
   "source": [
    "nt[3][0]"
   ]
  },
  {
   "cell_type": "code",
   "execution_count": 62,
   "id": "ca588035-f091-40b6-a465-6547769a0e4e",
   "metadata": {
    "tags": []
   },
   "outputs": [
    {
     "data": {
      "text/plain": [
       "'o'"
      ]
     },
     "execution_count": 62,
     "metadata": {},
     "output_type": "execute_result"
    }
   ],
   "source": [
    "nt[2][0][1]"
   ]
  },
  {
   "cell_type": "markdown",
   "id": "f8dbe4f5-adb5-4b7b-8562-6b75b8bb0645",
   "metadata": {},
   "source": [
    "### Lists\n",
    "- Lists are ordered sequences\n",
    "- Here is a list \"L\"\n",
    "- A list is represented with square brackets\n",
    "- List are __MUTABLE__\n",
    "- L = [\"michael jackson\", 10.1, 1992]\n",
    "- Lists can contain str, int, floats, other lists, tuples and other data structures"
   ]
  },
  {
   "cell_type": "code",
   "execution_count": 2,
   "id": "958c82b9-db82-4276-b596-2d8ff99b5678",
   "metadata": {
    "tags": []
   },
   "outputs": [
    {
     "data": {
      "text/plain": [
       "'Michael Jackson'"
      ]
     },
     "execution_count": 2,
     "metadata": {},
     "output_type": "execute_result"
    }
   ],
   "source": [
    "# standard indexing applies to lists\n",
    "L = [\"Michael Jackson\", 10.1, 1992]\n",
    "L[0]"
   ]
  },
  {
   "cell_type": "code",
   "execution_count": 3,
   "id": "670b253b-f164-4831-a5d4-ed1727db2bad",
   "metadata": {
    "tags": []
   },
   "outputs": [
    {
     "data": {
      "text/plain": [
       "'Michael'"
      ]
     },
     "execution_count": 3,
     "metadata": {},
     "output_type": "execute_result"
    }
   ],
   "source": [
    "L[0][:7]"
   ]
  },
  {
   "cell_type": "code",
   "execution_count": 5,
   "id": "f0ce54d5-b6ad-4cd2-920c-3def9e5ce2de",
   "metadata": {
    "tags": []
   },
   "outputs": [
    {
     "name": "stdout",
     "output_type": "stream",
     "text": [
      "['Michael Jackson', 10.1, 1992, 10, 45, 'String']\n"
     ]
    }
   ],
   "source": [
    "# you can concatinate lists by adding them\n",
    "L1 = L + [10,45,\"String\"]\n",
    "print(L1)"
   ]
  },
  {
   "cell_type": "code",
   "execution_count": 15,
   "id": "47a59e9a-864a-4983-a89c-56cc06958d4d",
   "metadata": {
    "tags": []
   },
   "outputs": [
    {
     "name": "stdout",
     "output_type": "stream",
     "text": [
      "['Michael Jackson', 10.1, 1992, 'pop', 10, 'pop', 10, ['rocks', 'pop'], ['rocks', 'pop'], 'pop', 10, 'pop', 10, ['rocks', 'pop'], 'pop', 10]\n"
     ]
    },
    {
     "data": {
      "text/plain": [
       "16"
      ]
     },
     "execution_count": 15,
     "metadata": {},
     "output_type": "execute_result"
    }
   ],
   "source": [
    "# You can apply the method extend\n",
    "L.extend([\"pop\",10])\n",
    "print(L)\n",
    "len(L)"
   ]
  },
  {
   "cell_type": "code",
   "execution_count": 17,
   "id": "e48dfe4c-083c-4ce9-899d-0e0a73bbf0ca",
   "metadata": {
    "tags": []
   },
   "outputs": [
    {
     "name": "stdout",
     "output_type": "stream",
     "text": [
      "['Michael Jackson', 10.1, 1992, 'pop', 10, 'pop', 10, ['rocks', 'pop'], ['rocks', 'pop'], 'pop', 10, 'pop', 10, ['rocks', 'pop'], 'pop', 10, ['rocks', 'pop'], ['rocks', 'pop']]\n"
     ]
    }
   ],
   "source": [
    "# You can apply append, which only adds 1 element to the list\n",
    "L.append([\"rocks\",\"pop\"])\n",
    "print(L)"
   ]
  },
  {
   "cell_type": "code",
   "execution_count": 18,
   "id": "a165aebe-28a4-409e-8344-939f372df038",
   "metadata": {
    "tags": []
   },
   "outputs": [
    {
     "data": {
      "text/plain": [
       "18"
      ]
     },
     "execution_count": 18,
     "metadata": {},
     "output_type": "execute_result"
    }
   ],
   "source": [
    "len(L)"
   ]
  },
  {
   "cell_type": "code",
   "execution_count": 23,
   "id": "13511727-cb51-4fc4-aac1-8fa2a6991c1c",
   "metadata": {
    "tags": []
   },
   "outputs": [
    {
     "name": "stdout",
     "output_type": "stream",
     "text": [
      "['disco', 10, 1.2]\n"
     ]
    }
   ],
   "source": [
    "# As lists are mutable, you can change them in the following way\n",
    "a = [\"disco\",10,1.2]\n",
    "print(a)"
   ]
  },
  {
   "cell_type": "code",
   "execution_count": 25,
   "id": "6a8a40fc-1568-4c6b-a8c6-093f7bfac475",
   "metadata": {
    "tags": []
   },
   "outputs": [
    {
     "name": "stdout",
     "output_type": "stream",
     "text": [
      "['Hardrock', 10, 1.2]\n"
     ]
    }
   ],
   "source": [
    "a[0]= \"Hardrock\"\n",
    "print(a)"
   ]
  },
  {
   "cell_type": "code",
   "execution_count": 26,
   "id": "1bbbbadf-05c9-4ea1-820a-f810f46ad740",
   "metadata": {
    "tags": []
   },
   "outputs": [
    {
     "name": "stdout",
     "output_type": "stream",
     "text": [
      "[10, 1.2]\n"
     ]
    }
   ],
   "source": [
    "# Can also use the Delete method del() to delete elements\n",
    "del(a[0])\n",
    "print(a)"
   ]
  },
  {
   "cell_type": "code",
   "execution_count": 27,
   "id": "e43395e6-159a-4871-8d76-7bc2e5bc1e57",
   "metadata": {
    "tags": []
   },
   "outputs": [
    {
     "data": {
      "text/plain": [
       "['hard', 'rock']"
      ]
     },
     "execution_count": 27,
     "metadata": {},
     "output_type": "execute_result"
    }
   ],
   "source": [
    "# Can convert a string to a list using the method split()\n",
    "\"hard rock\".split()"
   ]
  },
  {
   "cell_type": "code",
   "execution_count": 30,
   "id": "efb6aa7e-25f7-4df8-8820-ace62970532c",
   "metadata": {
    "tags": []
   },
   "outputs": [
    {
     "data": {
      "text/plain": [
       "['When',\n",
       " 'you',\n",
       " 'split',\n",
       " 'a',\n",
       " 'string,',\n",
       " 'it',\n",
       " 'splits',\n",
       " 'it',\n",
       " 'at',\n",
       " 'the',\n",
       " 'spaces']"
      ]
     },
     "execution_count": 30,
     "metadata": {},
     "output_type": "execute_result"
    }
   ],
   "source": [
    "\"When you split a string, it splits it at the spaces\".split()\n"
   ]
  },
  {
   "cell_type": "code",
   "execution_count": 32,
   "id": "c64fc20c-059f-464e-9899-148c963ddb04",
   "metadata": {
    "tags": []
   },
   "outputs": [
    {
     "data": {
      "text/plain": [
       "['A', 'B', 'C', 'D']"
      ]
     },
     "execution_count": 32,
     "metadata": {},
     "output_type": "execute_result"
    }
   ],
   "source": [
    "# We can use the split function to split the list at a delimiter\n",
    "\"A,B,C,D\".split(\",\")"
   ]
  },
  {
   "cell_type": "markdown",
   "id": "55f83b37-2843-4a90-8a42-ba5a04282d4d",
   "metadata": {
    "tags": []
   },
   "source": [
    "#### Aliasing"
   ]
  },
  {
   "cell_type": "code",
   "execution_count": null,
   "id": "28c7c031-c4f9-4e4d-be2f-8730eb05a8c1",
   "metadata": {},
   "outputs": [],
   "source": [
    "# Aliasing is mulitple items refering to the same object"
   ]
  },
  {
   "cell_type": "code",
   "execution_count": 33,
   "id": "903db13d-def4-4f47-9e0f-522506542903",
   "metadata": {
    "tags": []
   },
   "outputs": [],
   "source": [
    "A = [\"hardrock\",10,1.2]\n",
    "B= A"
   ]
  },
  {
   "cell_type": "code",
   "execution_count": 34,
   "id": "6181ca4c-6abe-4aa3-bf65-57f9d37b88ed",
   "metadata": {
    "tags": []
   },
   "outputs": [
    {
     "data": {
      "text/plain": [
       "'hardrock'"
      ]
     },
     "execution_count": 34,
     "metadata": {},
     "output_type": "execute_result"
    }
   ],
   "source": [
    "B[0]"
   ]
  },
  {
   "cell_type": "code",
   "execution_count": 35,
   "id": "2d7ad1c5-ed96-4d67-838c-aa156334904d",
   "metadata": {
    "tags": []
   },
   "outputs": [],
   "source": [
    "A[0] = \"Banana\""
   ]
  },
  {
   "cell_type": "code",
   "execution_count": 36,
   "id": "1984d604-da48-407e-a963-f4d9583affd0",
   "metadata": {
    "tags": []
   },
   "outputs": [
    {
     "data": {
      "text/plain": [
       "'Banana'"
      ]
     },
     "execution_count": 36,
     "metadata": {},
     "output_type": "execute_result"
    }
   ],
   "source": [
    "B[0]"
   ]
  },
  {
   "cell_type": "code",
   "execution_count": 37,
   "id": "b981de0c-22df-4374-9f72-719b6b46f8db",
   "metadata": {
    "tags": []
   },
   "outputs": [],
   "source": [
    "B[0] = \"Soft Rock\""
   ]
  },
  {
   "cell_type": "code",
   "execution_count": 38,
   "id": "a15c9ee3-c3ed-467e-8d1b-d998651db1e8",
   "metadata": {
    "tags": []
   },
   "outputs": [
    {
     "data": {
      "text/plain": [
       "'Soft Rock'"
      ]
     },
     "execution_count": 38,
     "metadata": {},
     "output_type": "execute_result"
    }
   ],
   "source": [
    "A[0]"
   ]
  },
  {
   "cell_type": "markdown",
   "id": "7f48a513-1718-46b4-9602-3692580da20d",
   "metadata": {},
   "source": [
    "#### Clone\n",
    "- You can clone a list with the following syntax, B=[:]"
   ]
  },
  {
   "cell_type": "code",
   "execution_count": 42,
   "id": "2138b0bd-8820-47d8-9841-11eed9458472",
   "metadata": {
    "tags": []
   },
   "outputs": [],
   "source": [
    "A=[\"Hard Rock\",10,1.2]\n",
    "B=A[:]"
   ]
  },
  {
   "cell_type": "code",
   "execution_count": 43,
   "id": "48569a03-7071-41aa-bb83-3ee0ea03f9a1",
   "metadata": {
    "tags": []
   },
   "outputs": [
    {
     "data": {
      "text/plain": [
       "'Hard Rock'"
      ]
     },
     "execution_count": 43,
     "metadata": {},
     "output_type": "execute_result"
    }
   ],
   "source": [
    "A[0]"
   ]
  },
  {
   "cell_type": "code",
   "execution_count": 44,
   "id": "b2ccfffd-910b-4305-887e-a96b1d616320",
   "metadata": {
    "tags": []
   },
   "outputs": [
    {
     "data": {
      "text/plain": [
       "'Hard Rock'"
      ]
     },
     "execution_count": 44,
     "metadata": {},
     "output_type": "execute_result"
    }
   ],
   "source": [
    "B[0]"
   ]
  },
  {
   "cell_type": "code",
   "execution_count": 45,
   "id": "22a1c732-a380-45a7-9701-b2dd54ca914f",
   "metadata": {
    "tags": []
   },
   "outputs": [],
   "source": [
    "A[0] = \"Soft Rock\""
   ]
  },
  {
   "cell_type": "code",
   "execution_count": 47,
   "id": "86580d4f-0653-468b-b713-fbc162cc3de2",
   "metadata": {
    "tags": []
   },
   "outputs": [
    {
     "name": "stdout",
     "output_type": "stream",
     "text": [
      "['Soft Rock', 10, 1.2]\n"
     ]
    }
   ],
   "source": [
    "print(A)"
   ]
  },
  {
   "cell_type": "code",
   "execution_count": 48,
   "id": "64927c7f-db98-4c04-b773-5d4ce74fa741",
   "metadata": {
    "tags": []
   },
   "outputs": [
    {
     "name": "stdout",
     "output_type": "stream",
     "text": [
      "['Hard Rock', 10, 1.2]\n"
     ]
    }
   ],
   "source": [
    "print(B)"
   ]
  },
  {
   "cell_type": "code",
   "execution_count": 50,
   "id": "06c0e217-bffa-4a35-a075-a179b4657c14",
   "metadata": {
    "tags": []
   },
   "outputs": [],
   "source": [
    "# you can use help(A) to get info of the list"
   ]
  },
  {
   "cell_type": "code",
   "execution_count": 62,
   "id": "ebd5d7e8-c31b-406a-b522-2e545e68a6b5",
   "metadata": {
    "tags": []
   },
   "outputs": [],
   "source": [
    "A.extend(\"Love\")"
   ]
  },
  {
   "cell_type": "code",
   "execution_count": 63,
   "id": "81c135a8-8266-456d-8c18-3502d6cd285a",
   "metadata": {
    "tags": []
   },
   "outputs": [
    {
     "name": "stdout",
     "output_type": "stream",
     "text": [
      "['Soft Rock', 10, 1.2, 10, 14, 'Hi', 'Love', 'Love', 'Love', 'Love', 'L', 'o', 'v', 'e']\n"
     ]
    }
   ],
   "source": [
    "print(A)"
   ]
  },
  {
   "cell_type": "code",
   "execution_count": 65,
   "id": "9288f078-7e4c-4e7b-85cb-2bf0f85b34b3",
   "metadata": {
    "tags": []
   },
   "outputs": [
    {
     "data": {
      "text/plain": [
       "1"
      ]
     },
     "execution_count": 65,
     "metadata": {},
     "output_type": "execute_result"
    }
   ],
   "source": [
    "A.index(10)"
   ]
  },
  {
   "cell_type": "markdown",
   "id": "9daf204d-6e67-4a4c-ad91-3946c133edb9",
   "metadata": {},
   "source": [
    "### Dictionaries\n",
    "- A type of collection in python\n",
    "- A list is made up of index/element and a dictionary is made up of __KEY__ __VALUE__ __PAIRS__\n",
    "- Dictionaries are denoted with curly Brackets\n",
    "- The __keys__ have to be __immutable and unique__\n",
    "- The values can be immutable, mutable and duplicates\n",
    "- Each key and value pair is separated by a comma"
   ]
  },
  {
   "cell_type": "code",
   "execution_count": 67,
   "id": "d3ccf861-c145-4d5c-9e3a-f1195df1e9a5",
   "metadata": {
    "tags": []
   },
   "outputs": [],
   "source": [
    "# Below is an example of a dictionary \n",
    "mydict = {\"love\": 10, \"Hurts\": 6, \"Alot\":10}"
   ]
  },
  {
   "cell_type": "code",
   "execution_count": 71,
   "id": "f1527ed8-5139-477d-843b-7ec1f0415bad",
   "metadata": {
    "tags": []
   },
   "outputs": [
    {
     "data": {
      "text/plain": [
       "6"
      ]
     },
     "execution_count": 71,
     "metadata": {},
     "output_type": "execute_result"
    }
   ],
   "source": [
    "# Indexing is down by keys\n",
    "mydict[\"Hurts\"]"
   ]
  },
  {
   "cell_type": "code",
   "execution_count": 76,
   "id": "04b4acc6-d220-40b3-bbc9-3c7d444882e1",
   "metadata": {
    "tags": []
   },
   "outputs": [
    {
     "name": "stdout",
     "output_type": "stream",
     "text": [
      "{'love': 10, 'Hurts': 6, 'Alot': 10, 'gone': 15}\n"
     ]
    }
   ],
   "source": [
    "# you can add a new item to the dict as below\n",
    "mydict[\"gone\"]= 15\n",
    "print(mydict)"
   ]
  },
  {
   "cell_type": "code",
   "execution_count": 77,
   "id": "3d114199-b936-4bd7-9387-935a2b618da4",
   "metadata": {
    "tags": []
   },
   "outputs": [
    {
     "name": "stdout",
     "output_type": "stream",
     "text": [
      "{'love': 10, 'Hurts': 6, 'Alot': 10}\n"
     ]
    }
   ],
   "source": [
    "# You can delete an entry as follows\n",
    "del(mydict[\"gone\"])\n",
    "print(mydict)"
   ]
  },
  {
   "cell_type": "code",
   "execution_count": 78,
   "id": "a36a52e9-2257-4c94-8e66-8199d00dfec1",
   "metadata": {
    "tags": []
   },
   "outputs": [
    {
     "data": {
      "text/plain": [
       "True"
      ]
     },
     "execution_count": 78,
     "metadata": {},
     "output_type": "execute_result"
    }
   ],
   "source": [
    "# you can verify is an element is in the dictionary by using the In command\n",
    "\"love\" in mydict"
   ]
  },
  {
   "cell_type": "code",
   "execution_count": 79,
   "id": "efb60416-19e9-4b43-9ca4-6255eec0bf1a",
   "metadata": {
    "tags": []
   },
   "outputs": [
    {
     "data": {
      "text/plain": [
       "dict_values([10, 6, 10])"
      ]
     },
     "execution_count": 79,
     "metadata": {},
     "output_type": "execute_result"
    }
   ],
   "source": [
    "# you can look at the keys and values by using method below\n",
    "mydict.values()"
   ]
  },
  {
   "cell_type": "code",
   "execution_count": 80,
   "id": "03467cfa-7c7c-477b-a5b9-abd5e3dc8f09",
   "metadata": {
    "tags": []
   },
   "outputs": [
    {
     "data": {
      "text/plain": [
       "dict_keys(['love', 'Hurts', 'Alot'])"
      ]
     },
     "execution_count": 80,
     "metadata": {},
     "output_type": "execute_result"
    }
   ],
   "source": [
    "mydict.keys()"
   ]
  },
  {
   "cell_type": "markdown",
   "id": "68d0d317-8697-41aa-9ccc-32c7c2e40079",
   "metadata": {},
   "source": [
    "### Sets\n",
    "- Sets are a type of collection\n",
    "- You can input different python types\n",
    "- Unlike lists and tuples they are unordered\n",
    "- Sets only have unique elements\n",
    "- This means there is only one of a particular element in a set"
   ]
  },
  {
   "cell_type": "code",
   "execution_count": 82,
   "id": "52cafa71-9baa-4d14-9b48-e41913b4a1d3",
   "metadata": {
    "tags": []
   },
   "outputs": [
    {
     "name": "stdout",
     "output_type": "stream",
     "text": [
      "{'rock', 'hard rock', 'soul', 'pop', 'disco'}\n"
     ]
    }
   ],
   "source": [
    "# When creading a set, dup values will be consoldated to one entry\n",
    "\n",
    "set1 = {\"pop\",\"rock\",\"soul\",\"hard rock\",\"rock\",\"disco\"}\n",
    "print(set1)"
   ]
  },
  {
   "cell_type": "code",
   "execution_count": 84,
   "id": "c18f0dbc-7b3e-4774-8633-589a74d12c7c",
   "metadata": {
    "tags": []
   },
   "outputs": [
    {
     "name": "stdout",
     "output_type": "stream",
     "text": [
      "{'Michael Jackson', 1982, 'Thriller'}\n"
     ]
    }
   ],
   "source": [
    "# you can convert a list to a set by passing it through the fuction set. This is call typecasting\n",
    "album_list = [\"Michael Jackson\",\"Thriller\",\"Thriller\",1982]\n",
    "album_set = set(album_list)\n",
    "print(album_set)"
   ]
  },
  {
   "cell_type": "markdown",
   "id": "fa8a66c2-0584-480c-9c5c-3f4a7c993554",
   "metadata": {},
   "source": [
    "#### Set Operations"
   ]
  },
  {
   "cell_type": "code",
   "execution_count": 85,
   "id": "2ddd3c8a-3655-4862-b553-79ba3134904c",
   "metadata": {
    "tags": []
   },
   "outputs": [],
   "source": [
    "A = {\"Thriller\",\"Back in Black\",\"AC/DC\"}\n"
   ]
  },
  {
   "cell_type": "code",
   "execution_count": 86,
   "id": "cdc8bef1-fc78-435c-a53a-556b50328282",
   "metadata": {
    "tags": []
   },
   "outputs": [
    {
     "name": "stdout",
     "output_type": "stream",
     "text": [
      "{'NSYNC', 'AC/DC', 'Thriller', 'Back in Black'}\n"
     ]
    }
   ],
   "source": [
    "# you can add to the set by using A.add(\"NSYNC\")\n",
    "A.add(\"NSYNC\")\n",
    "print(A)"
   ]
  },
  {
   "cell_type": "code",
   "execution_count": 87,
   "id": "77671fd3-e2ed-410c-9b1c-3b0a7e2ee9df",
   "metadata": {
    "tags": []
   },
   "outputs": [
    {
     "name": "stdout",
     "output_type": "stream",
     "text": [
      "{'AC/DC', 'Thriller', 'Back in Black'}\n"
     ]
    }
   ],
   "source": [
    "# you can remove with A.remove(\"NSYNC\")\n",
    "A.remove(\"NSYNC\")\n",
    "print(A)"
   ]
  },
  {
   "cell_type": "code",
   "execution_count": 88,
   "id": "8fedea4f-8877-4d5e-a0ac-996031e104ac",
   "metadata": {
    "tags": []
   },
   "outputs": [
    {
     "data": {
      "text/plain": [
       "True"
      ]
     },
     "execution_count": 88,
     "metadata": {},
     "output_type": "execute_result"
    }
   ],
   "source": [
    "# you can verify if an element is in a set with in\n",
    "\"AC/DC\" in A"
   ]
  },
  {
   "cell_type": "code",
   "execution_count": null,
   "id": "682c6706-08c8-45c2-ac40-45f088d0ea25",
   "metadata": {},
   "outputs": [],
   "source": [
    "#"
   ]
  },
  {
   "cell_type": "markdown",
   "id": "b757f267-95af-495b-aa16-26f447ec8ccb",
   "metadata": {},
   "source": [
    "#### Mathematical Set Operations"
   ]
  },
  {
   "cell_type": "code",
   "execution_count": 90,
   "id": "292ce79f-cb82-4e29-94d1-28d46717ea0a",
   "metadata": {
    "tags": []
   },
   "outputs": [
    {
     "name": "stdout",
     "output_type": "stream",
     "text": [
      "{'AC/DC', 'Back in Black'}\n"
     ]
    }
   ],
   "source": [
    "album_set_1 = {\"AC/DC\",\"Back in Black\",\"Thriller\"}\n",
    "album_set_2 = {\"AC/DC\",\"Back in Black\",\"The Dark Side of the Moon\"}\n",
    "album_set_3 = album_set_1 & album_set_2\n",
    "print(album_set_3)"
   ]
  },
  {
   "cell_type": "code",
   "execution_count": 91,
   "id": "815696c7-e29d-4243-8921-02d3adc8f987",
   "metadata": {
    "tags": []
   },
   "outputs": [
    {
     "data": {
      "text/plain": [
       "{'AC/DC', 'Back in Black', 'The Dark Side of the Moon', 'Thriller'}"
      ]
     },
     "execution_count": 91,
     "metadata": {},
     "output_type": "execute_result"
    }
   ],
   "source": [
    "# you can find the union of a set by using the follow \n",
    "album_set_1.union(album_set_2)"
   ]
  },
  {
   "cell_type": "code",
   "execution_count": 92,
   "id": "3203ff0d-ba17-4b86-88e6-d8b4d31af61e",
   "metadata": {
    "tags": []
   },
   "outputs": [
    {
     "data": {
      "text/plain": [
       "True"
      ]
     },
     "execution_count": 92,
     "metadata": {},
     "output_type": "execute_result"
    }
   ],
   "source": [
    "# We cna check if a set is a subset using the issubset method\n",
    "album_set_3.issubset(album_set_1)"
   ]
  },
  {
   "cell_type": "code",
   "execution_count": 93,
   "id": "5762eda5-f478-4615-b3e3-c89cf6ee7eb4",
   "metadata": {
    "tags": []
   },
   "outputs": [
    {
     "data": {
      "text/plain": [
       "2"
      ]
     },
     "execution_count": 93,
     "metadata": {},
     "output_type": "execute_result"
    }
   ],
   "source": [
    "len((\"disco\",10))"
   ]
  },
  {
   "cell_type": "markdown",
   "id": "30eb5be3-44a2-4229-a1d4-84bb04446861",
   "metadata": {},
   "source": [
    "### Conditons and Branching\n",
    "- operand ---> Comparison operators ---> Boolean"
   ]
  },
  {
   "cell_type": "code",
   "execution_count": 2,
   "id": "c632ecb7-389c-43ca-88ca-85b37b4bc746",
   "metadata": {
    "tags": []
   },
   "outputs": [
    {
     "data": {
      "text/plain": [
       "True"
      ]
     },
     "execution_count": 2,
     "metadata": {},
     "output_type": "execute_result"
    }
   ],
   "source": [
    "# Equal\n",
    "1 == 1"
   ]
  },
  {
   "cell_type": "code",
   "execution_count": 3,
   "id": "9284cad9-fcdb-42da-bd19-e86010c4d01a",
   "metadata": {
    "tags": []
   },
   "outputs": [
    {
     "data": {
      "text/plain": [
       "True"
      ]
     },
     "execution_count": 3,
     "metadata": {},
     "output_type": "execute_result"
    }
   ],
   "source": [
    "# Less than\n",
    "1 < 5"
   ]
  },
  {
   "cell_type": "code",
   "execution_count": 4,
   "id": "6e3ea7bd-bc41-48ab-a6bb-c38cfe9b34e9",
   "metadata": {
    "tags": []
   },
   "outputs": [
    {
     "data": {
      "text/plain": [
       "True"
      ]
     },
     "execution_count": 4,
     "metadata": {},
     "output_type": "execute_result"
    }
   ],
   "source": [
    "# Greater than\n",
    "5 > 1"
   ]
  },
  {
   "cell_type": "code",
   "execution_count": 6,
   "id": "704f2d01-3f3e-458d-ad42-5d7a531598a4",
   "metadata": {
    "tags": []
   },
   "outputs": [
    {
     "data": {
      "text/plain": [
       "True"
      ]
     },
     "execution_count": 6,
     "metadata": {},
     "output_type": "execute_result"
    }
   ],
   "source": [
    "# Greater than or equal to\n",
    "5 >= 4"
   ]
  },
  {
   "cell_type": "code",
   "execution_count": 7,
   "id": "136fc42a-9738-4457-a6e0-4d58aa2e7677",
   "metadata": {
    "tags": []
   },
   "outputs": [
    {
     "data": {
      "text/plain": [
       "True"
      ]
     },
     "execution_count": 7,
     "metadata": {},
     "output_type": "execute_result"
    }
   ],
   "source": [
    "# Less than or equal to\n",
    "4 <= 6"
   ]
  },
  {
   "cell_type": "code",
   "execution_count": 9,
   "id": "0c58d1f1-ac59-4d47-9459-14b3fcd8fad2",
   "metadata": {
    "tags": []
   },
   "outputs": [
    {
     "data": {
      "text/plain": [
       "True"
      ]
     },
     "execution_count": 9,
     "metadata": {},
     "output_type": "execute_result"
    }
   ],
   "source": [
    "# not equal\n",
    "\n",
    "3 != 4"
   ]
  },
  {
   "cell_type": "markdown",
   "id": "c0582173-2cea-4795-b5fc-781b37d5e8bc",
   "metadata": {},
   "source": [
    "#### Condidional Statements\n",
    "- if\n",
    "- else\n",
    "- elif"
   ]
  },
  {
   "cell_type": "code",
   "execution_count": 18,
   "id": "06cefcf9-76f5-4187-a3d6-7beff7912cca",
   "metadata": {
    "tags": []
   },
   "outputs": [
    {
     "name": "stdout",
     "output_type": "stream",
     "text": [
      "you can enter\n",
      "Move on\n"
     ]
    }
   ],
   "source": [
    "# If statement\n",
    "age = 19\n",
    "if age>18:\n",
    "    print(\"you can enter\")\n",
    "print(\"Move on\")\n",
    "    "
   ]
  },
  {
   "cell_type": "code",
   "execution_count": 19,
   "id": "3149ca45-eda3-4e61-8948-1353fd784f23",
   "metadata": {
    "tags": []
   },
   "outputs": [
    {
     "name": "stdout",
     "output_type": "stream",
     "text": [
      "you can enter\n",
      "move one\n"
     ]
    }
   ],
   "source": [
    "# Else Statement\n",
    "if age > 18:\n",
    "    print(\"you can enter\")\n",
    "else: \n",
    "    print(\"go see meat loaf\")\n",
    "print(\"move one\")\n",
    "          "
   ]
  },
  {
   "cell_type": "code",
   "execution_count": 20,
   "id": "2bc512e6-4752-4ae3-bb2b-13b0d43531a6",
   "metadata": {
    "tags": []
   },
   "outputs": [
    {
     "name": "stdout",
     "output_type": "stream",
     "text": [
      "you can enter\n",
      "move one\n"
     ]
    }
   ],
   "source": [
    "# elif statment\n",
    "if age > 18:\n",
    "    print(\"you can enter\")\n",
    "elif age==18:\n",
    "    print(\"go see pink floyd\")\n",
    "\n",
    "else: \n",
    "    print(\"go see meat loaf\")\n",
    "print(\"move one\")"
   ]
  },
  {
   "cell_type": "markdown",
   "id": "da5d3295-a156-4ee7-aafe-8a021b818109",
   "metadata": {},
   "source": [
    "### Logic Operators\n",
    "- take boolean values and creates different boolean values\n",
    "- OR\n",
    "- AND"
   ]
  },
  {
   "cell_type": "code",
   "execution_count": 23,
   "id": "d12a2e20-8645-4385-b00a-cf2b607f98dd",
   "metadata": {
    "tags": []
   },
   "outputs": [
    {
     "data": {
      "text/plain": [
       "False"
      ]
     },
     "execution_count": 23,
     "metadata": {},
     "output_type": "execute_result"
    }
   ],
   "source": [
    "# Not operator\n",
    "not(True)"
   ]
  },
  {
   "cell_type": "code",
   "execution_count": 24,
   "id": "44e38a23-afac-40ef-9f46-c49958c45215",
   "metadata": {
    "tags": []
   },
   "outputs": [
    {
     "data": {
      "text/plain": [
       "True"
      ]
     },
     "execution_count": 24,
     "metadata": {},
     "output_type": "execute_result"
    }
   ],
   "source": [
    "not(False)"
   ]
  },
  {
   "cell_type": "code",
   "execution_count": 1,
   "id": "736b5acc-f2af-46ca-ad35-4910dbc5cb6d",
   "metadata": {
    "tags": []
   },
   "outputs": [
    {
     "data": {
      "text/plain": [
       "True"
      ]
     },
     "execution_count": 1,
     "metadata": {},
     "output_type": "execute_result"
    }
   ],
   "source": [
    "# The OR operator takes in the town values and produces a new Boolean value. It is only false when both inputs are false\n",
    "True or False"
   ]
  },
  {
   "cell_type": "code",
   "execution_count": 2,
   "id": "4e6f7a82-595a-4c30-84e8-15015b35fde8",
   "metadata": {
    "tags": []
   },
   "outputs": [
    {
     "data": {
      "text/plain": [
       "True"
      ]
     },
     "execution_count": 2,
     "metadata": {},
     "output_type": "execute_result"
    }
   ],
   "source": [
    "False or True"
   ]
  },
  {
   "cell_type": "code",
   "execution_count": 3,
   "id": "0897d2ca-7b1b-4290-af4d-e955ed51be65",
   "metadata": {
    "tags": []
   },
   "outputs": [
    {
     "data": {
      "text/plain": [
       "False"
      ]
     },
     "execution_count": 3,
     "metadata": {},
     "output_type": "execute_result"
    }
   ],
   "source": [
    "False or False"
   ]
  },
  {
   "cell_type": "code",
   "execution_count": 4,
   "id": "78d8fa45-099b-4668-9755-684b396966d4",
   "metadata": {
    "tags": []
   },
   "outputs": [
    {
     "data": {
      "text/plain": [
       "True"
      ]
     },
     "execution_count": 4,
     "metadata": {},
     "output_type": "execute_result"
    }
   ],
   "source": [
    "False or True"
   ]
  },
  {
   "cell_type": "code",
   "execution_count": 10,
   "id": "557ce32b-9d78-4d55-9995-f66d21bcae6b",
   "metadata": {
    "tags": []
   },
   "outputs": [
    {
     "name": "stdout",
     "output_type": "stream",
     "text": [
      "The Album was made in the 70s's or 90's\n"
     ]
    }
   ],
   "source": [
    "# Example\n",
    "album_year = 1990\n",
    "if album_year < 1980 or album_year >1989:\n",
    "    print(\"The Album was made in the 70s's or 90's\")\n",
    "else:\n",
    "    print(\"The Album was made in the 1980s\")"
   ]
  },
  {
   "cell_type": "code",
   "execution_count": 11,
   "id": "36618978-b2d5-4d03-98c5-2ad57aded317",
   "metadata": {
    "tags": []
   },
   "outputs": [
    {
     "data": {
      "text/plain": [
       "False"
      ]
     },
     "execution_count": 11,
     "metadata": {},
     "output_type": "execute_result"
    }
   ],
   "source": [
    "# AND is only True when both inputs are True\n",
    "True and False"
   ]
  },
  {
   "cell_type": "code",
   "execution_count": 12,
   "id": "1aa415ba-b950-440f-89f5-4f11f4845f0f",
   "metadata": {
    "tags": []
   },
   "outputs": [
    {
     "data": {
      "text/plain": [
       "True"
      ]
     },
     "execution_count": 12,
     "metadata": {},
     "output_type": "execute_result"
    }
   ],
   "source": [
    "True and True"
   ]
  },
  {
   "cell_type": "code",
   "execution_count": 13,
   "id": "7f7dc781-5805-403e-b13d-9cdf9ae8e69b",
   "metadata": {
    "tags": []
   },
   "outputs": [
    {
     "data": {
      "text/plain": [
       "False"
      ]
     },
     "execution_count": 13,
     "metadata": {},
     "output_type": "execute_result"
    }
   ],
   "source": [
    "False and False"
   ]
  },
  {
   "cell_type": "code",
   "execution_count": 16,
   "id": "96406fe9-5bfb-4e62-aa0e-a14e02a0f14f",
   "metadata": {
    "tags": []
   },
   "outputs": [
    {
     "name": "stdout",
     "output_type": "stream",
     "text": [
      "The album was made in the 80s\n"
     ]
    }
   ],
   "source": [
    "# example\n",
    "album_year = 1983\n",
    "if album_year > 1979 and album_year < 1990:\n",
    "    print(\"The album was made in the 80s\")"
   ]
  },
  {
   "cell_type": "code",
   "execution_count": 17,
   "id": "afb608ed-eceb-4ced-becc-1695cfa72c0a",
   "metadata": {
    "tags": []
   },
   "outputs": [
    {
     "ename": "SyntaxError",
     "evalue": "cannot assign to literal here. Maybe you meant '==' instead of '='? (690182220.py, line 1)",
     "output_type": "error",
     "traceback": [
      "\u001b[1;36m  Cell \u001b[1;32mIn[17], line 1\u001b[1;36m\u001b[0m\n\u001b[1;33m    1 = 2\u001b[0m\n\u001b[1;37m    ^\u001b[0m\n\u001b[1;31mSyntaxError\u001b[0m\u001b[1;31m:\u001b[0m cannot assign to literal here. Maybe you meant '==' instead of '='?\n"
     ]
    }
   ],
   "source": []
  },
  {
   "cell_type": "code",
   "execution_count": 19,
   "id": "7561d3a8-567d-4996-ab68-1884ea391677",
   "metadata": {
    "tags": []
   },
   "outputs": [
    {
     "data": {
      "text/plain": [
       "True"
      ]
     },
     "execution_count": 19,
     "metadata": {},
     "output_type": "execute_result"
    }
   ],
   "source": [
    "1==1"
   ]
  },
  {
   "cell_type": "markdown",
   "id": "b78b1702-4a45-42a6-a2c9-0be3d22a962c",
   "metadata": {},
   "source": [
    "### Loops\n",
    "- for loops\n",
    "- while loops"
   ]
  },
  {
   "cell_type": "markdown",
   "id": "d30c7446-f6bc-49a7-9203-d1ff29c8386f",
   "metadata": {},
   "source": [
    "#### Range\n",
    "- the range outputs an ordered sequence as a list\n",
    "- if the input is postive interager, the result is a sequence and contains the same number of elements as the input\n",
    "- If the range function has two inputs where the first input is smaller than the second input, the output is a sequence that starts at the first input"
   ]
  },
  {
   "cell_type": "code",
   "execution_count": 21,
   "id": "fd8dbf38-da46-4ae1-a785-c0bfffd89743",
   "metadata": {
    "tags": []
   },
   "outputs": [
    {
     "data": {
      "text/plain": [
       "range(0, 6)"
      ]
     },
     "execution_count": 21,
     "metadata": {},
     "output_type": "execute_result"
    }
   ],
   "source": [
    "range(6)"
   ]
  },
  {
   "cell_type": "code",
   "execution_count": 24,
   "id": "32b08ed5-4bbc-4671-a6f6-0dc2bf96e4ec",
   "metadata": {
    "tags": []
   },
   "outputs": [
    {
     "name": "stdout",
     "output_type": "stream",
     "text": [
      "range(10, 15)\n"
     ]
    },
    {
     "data": {
      "text/plain": [
       "NoneType"
      ]
     },
     "execution_count": 24,
     "metadata": {},
     "output_type": "execute_result"
    }
   ],
   "source": [
    "test =range(10,15)\n",
    "type(print(test))"
   ]
  },
  {
   "cell_type": "code",
   "execution_count": 25,
   "id": "bf3dec36-d5de-494d-b3ba-e548fab9f2cf",
   "metadata": {
    "tags": []
   },
   "outputs": [
    {
     "data": {
      "text/plain": [
       "[5, 6, 7, 8, 9]"
      ]
     },
     "execution_count": 25,
     "metadata": {},
     "output_type": "execute_result"
    }
   ],
   "source": [
    "list(range(5,10))"
   ]
  },
  {
   "cell_type": "markdown",
   "id": "e66b853e-cb1e-4b1e-92f8-81cbd091c17e",
   "metadata": {},
   "source": [
    "#### FOR Loop\n",
    "- For loops will run for a set number of times"
   ]
  },
  {
   "cell_type": "code",
   "execution_count": 1,
   "id": "0ad4da97-582a-4655-ad7e-ed462682fb63",
   "metadata": {
    "tags": []
   },
   "outputs": [
    {
     "name": "stdout",
     "output_type": "stream",
     "text": [
      "red\n",
      "yellow\n",
      "green\n"
     ]
    }
   ],
   "source": [
    "squares = [\"red\",\"yellow\",\"green\"]\n",
    "for square in squares:\n",
    "    print(square)"
   ]
  },
  {
   "cell_type": "code",
   "execution_count": 14,
   "id": "0a018acb-c5ae-4707-808c-c2c110dc2bf1",
   "metadata": {
    "tags": []
   },
   "outputs": [
    {
     "name": "stdout",
     "output_type": "stream",
     "text": [
      "0 red\n",
      "1 yellow\n",
      "2 green\n"
     ]
    },
    {
     "data": {
      "text/plain": [
       "str"
      ]
     },
     "execution_count": 14,
     "metadata": {},
     "output_type": "execute_result"
    }
   ],
   "source": [
    "for x,square in enumerate(squares):\n",
    "    print(x,square)\n",
    "type(square)"
   ]
  },
  {
   "cell_type": "markdown",
   "id": "4c89c5d4-6212-403e-93ab-730d9cd8e875",
   "metadata": {},
   "source": [
    "#### While Loop\n",
    "- While loops will only run with an condition is met"
   ]
  },
  {
   "cell_type": "code",
   "execution_count": 16,
   "id": "e48429c1-d454-44b0-b77d-f60d64ab4b40",
   "metadata": {
    "tags": []
   },
   "outputs": [],
   "source": [
    "squares = ['orange','orange','purple','orange','blue']\n",
    "new_squares = []\n",
    "i = 0\n",
    "\n",
    "while(squares[i]=='orange'):\n",
    "    new_squares.append(squares[1])\n",
    "    i = i +1"
   ]
  },
  {
   "cell_type": "code",
   "execution_count": 20,
   "id": "84e25e62-5848-4869-8bfe-311534c5e3b4",
   "metadata": {
    "tags": []
   },
   "outputs": [
    {
     "name": "stdout",
     "output_type": "stream",
     "text": [
      "1982\n",
      "1980\n",
      "1973\n"
     ]
    }
   ],
   "source": [
    "dates = [1982,1980,1973]\n",
    "n = len(dates)\n",
    "\n",
    "for i in range(n):\n",
    "    print(dates[i])"
   ]
  },
  {
   "cell_type": "code",
   "execution_count": 21,
   "id": "dbfbb32f-8ff9-4fdc-b8ae-5a98e3b63fdf",
   "metadata": {
    "tags": []
   },
   "outputs": [
    {
     "name": "stdout",
     "output_type": "stream",
     "text": [
      "1\n",
      "3\n",
      "6\n",
      "10\n"
     ]
    }
   ],
   "source": [
    "sum = 0\n",
    "for x in [1,2,3,4]:\n",
    "    sum = sum + x\n",
    "    print(sum)\n"
   ]
  },
  {
   "cell_type": "code",
   "execution_count": 23,
   "id": "cfa48d43-7ebe-43d9-b497-a492e2b6a2d6",
   "metadata": {
    "tags": []
   },
   "outputs": [
    {
     "name": "stdout",
     "output_type": "stream",
     "text": [
      "3\n",
      "18\n",
      "72\n",
      "576\n",
      "4032\n"
     ]
    }
   ],
   "source": [
    "sum = 1\n",
    "for final in [3,6,4,8,7]:\n",
    "    sum = final * sum\n",
    "    print(sum)"
   ]
  },
  {
   "cell_type": "code",
   "execution_count": 24,
   "id": "c4868080-e254-432b-8959-6adfe9e48bdd",
   "metadata": {
    "tags": []
   },
   "outputs": [
    {
     "name": "stdout",
     "output_type": "stream",
     "text": [
      "2\n"
     ]
    }
   ],
   "source": [
    "test = [2,3,4,6]\n",
    "print(test[0])"
   ]
  },
  {
   "cell_type": "code",
   "execution_count": null,
   "id": "69b13280-9670-4232-84db-21e1960fa935",
   "metadata": {},
   "outputs": [],
   "source": []
  }
 ],
 "metadata": {
  "kernelspec": {
   "display_name": "Python 3 (ipykernel)",
   "language": "python",
   "name": "python3"
  },
  "language_info": {
   "codemirror_mode": {
    "name": "ipython",
    "version": 3
   },
   "file_extension": ".py",
   "mimetype": "text/x-python",
   "name": "python",
   "nbconvert_exporter": "python",
   "pygments_lexer": "ipython3",
   "version": "3.11.4"
  }
 },
 "nbformat": 4,
 "nbformat_minor": 5
}
