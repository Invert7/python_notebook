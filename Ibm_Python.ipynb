{
 "cells": [
  {
   "cell_type": "markdown",
   "id": "7aa24cbd-9fac-464b-9a6f-e0a70879483f",
   "metadata": {},
   "source": [
    "# IMB Python Notes"
   ]
  },
  {
   "cell_type": "markdown",
   "id": "6c07a135-7d9b-42f3-a533-709577763f06",
   "metadata": {
    "jp-MarkdownHeadingCollapsed": true,
    "tags": []
   },
   "source": [
    "### Version Check\n",
    "- This is how you can check what python version you are running"
   ]
  },
  {
   "cell_type": "code",
   "execution_count": 50,
   "id": "80b46fa0-7b6f-4c2e-aca5-704f2164f323",
   "metadata": {
    "tags": []
   },
   "outputs": [
    {
     "name": "stdout",
     "output_type": "stream",
     "text": [
      "3.11.4 | packaged by Anaconda, Inc. | (main, Jul  5 2023, 13:38:37) [MSC v.1916 64 bit (AMD64)]\n"
     ]
    }
   ],
   "source": [
    "import sys\n",
    "print(sys.version)"
   ]
  },
  {
   "cell_type": "markdown",
   "id": "5929f8b7-6ade-49fc-b4d5-27d8e94a0396",
   "metadata": {
    "jp-MarkdownHeadingCollapsed": true,
    "tags": []
   },
   "source": [
    "### Types\n",
    "- The basic types are intagers , Floats and Strings\n",
    "- You can verify the type by using the type() expression"
   ]
  },
  {
   "cell_type": "code",
   "execution_count": 3,
   "id": "8ea98860-c71f-4bc9-ae1f-6a18328c470d",
   "metadata": {
    "tags": []
   },
   "outputs": [
    {
     "data": {
      "text/plain": [
       "8"
      ]
     },
     "execution_count": 3,
     "metadata": {},
     "output_type": "execute_result"
    }
   ],
   "source": [
    "#int\n",
    "8"
   ]
  },
  {
   "cell_type": "code",
   "execution_count": 4,
   "id": "911de940-4bfb-4c98-b1d8-5d06ae247f4e",
   "metadata": {
    "tags": []
   },
   "outputs": [
    {
     "data": {
      "text/plain": [
       "23.223"
      ]
     },
     "execution_count": 4,
     "metadata": {},
     "output_type": "execute_result"
    }
   ],
   "source": [
    "#float\n",
    "23.223"
   ]
  },
  {
   "cell_type": "code",
   "execution_count": 5,
   "id": "7c391e01-79c9-4649-8516-517467b62a4a",
   "metadata": {
    "tags": []
   },
   "outputs": [
    {
     "name": "stdout",
     "output_type": "stream",
     "text": [
      "Hello World\n"
     ]
    }
   ],
   "source": [
    "#string\n",
    "print(\"Hello World\")"
   ]
  },
  {
   "cell_type": "markdown",
   "id": "2b5e7cf0-e285-4343-bd97-9b8bd7574787",
   "metadata": {
    "jp-MarkdownHeadingCollapsed": true,
    "tags": []
   },
   "source": [
    "#### Type casting\n",
    "You can change the value of the type by type casting"
   ]
  },
  {
   "cell_type": "code",
   "execution_count": 18,
   "id": "30877ade-f690-46bd-953b-fcec6586acdc",
   "metadata": {
    "tags": []
   },
   "outputs": [
    {
     "data": {
      "text/plain": [
       "7.0"
      ]
     },
     "execution_count": 18,
     "metadata": {},
     "output_type": "execute_result"
    }
   ],
   "source": [
    "# Int to float\n",
    "float(7)"
   ]
  },
  {
   "cell_type": "code",
   "execution_count": 8,
   "id": "210191e0-08c8-4618-964c-e9d331d01039",
   "metadata": {
    "tags": []
   },
   "outputs": [
    {
     "data": {
      "text/plain": [
       "5"
      ]
     },
     "execution_count": 8,
     "metadata": {},
     "output_type": "execute_result"
    }
   ],
   "source": [
    "# float to int (Before careful with this, you will clip the number)\n",
    "int(5.6)"
   ]
  },
  {
   "cell_type": "code",
   "execution_count": 9,
   "id": "610399e7-db36-4694-9cfa-161b2b72aebb",
   "metadata": {
    "tags": []
   },
   "outputs": [
    {
     "data": {
      "text/plain": [
       "1.0"
      ]
     },
     "execution_count": 9,
     "metadata": {},
     "output_type": "execute_result"
    }
   ],
   "source": [
    "#Str to float ect\n",
    "float('1')"
   ]
  },
  {
   "cell_type": "code",
   "execution_count": 10,
   "id": "5b334d5b-ae4f-4e3c-b5d4-239503a3ed49",
   "metadata": {
    "tags": []
   },
   "outputs": [
    {
     "data": {
      "text/plain": [
       "'7'"
      ]
     },
     "execution_count": 10,
     "metadata": {},
     "output_type": "execute_result"
    }
   ],
   "source": [
    "# str to int\n",
    "str(7)"
   ]
  },
  {
   "cell_type": "code",
   "execution_count": 11,
   "id": "74e8f53b-38db-488e-afe1-1f2a1c1b7aeb",
   "metadata": {
    "tags": []
   },
   "outputs": [],
   "source": [
    "# You can also cast Booleans"
   ]
  },
  {
   "cell_type": "code",
   "execution_count": 13,
   "id": "ec8cb5a9-4133-481a-ab9d-be7227e9d7f9",
   "metadata": {
    "tags": []
   },
   "outputs": [
    {
     "data": {
      "text/plain": [
       "'True'"
      ]
     },
     "execution_count": 13,
     "metadata": {},
     "output_type": "execute_result"
    }
   ],
   "source": [
    "# true to str\n",
    "str(True)"
   ]
  },
  {
   "cell_type": "code",
   "execution_count": 14,
   "id": "da89d554-f229-413e-9656-cdb443c87102",
   "metadata": {
    "tags": []
   },
   "outputs": [
    {
     "data": {
      "text/plain": [
       "1"
      ]
     },
     "execution_count": 14,
     "metadata": {},
     "output_type": "execute_result"
    }
   ],
   "source": [
    "int(True)"
   ]
  },
  {
   "cell_type": "code",
   "execution_count": 51,
   "id": "d019bbfc-6185-4d60-b391-32bda607176e",
   "metadata": {
    "tags": []
   },
   "outputs": [
    {
     "data": {
      "text/plain": [
       "int"
      ]
     },
     "execution_count": 51,
     "metadata": {},
     "output_type": "execute_result"
    }
   ],
   "source": [
    "type(7)"
   ]
  },
  {
   "cell_type": "markdown",
   "id": "ecc1f878-aedd-4bc2-b532-930837336bcf",
   "metadata": {
    "jp-MarkdownHeadingCollapsed": true,
    "tags": []
   },
   "source": [
    "### Expressions and Variables\n",
    "Expressions describe a type of operation the computers perform. Expressions are operations the python performs.\n",
    "- Example: (43 + 60 +16 + 41). We  call the numbers __operands__ and the math symbols are called __operators__\n",
    "- Python follows mathematical conventions when performing mathematical expressions"
   ]
  },
  {
   "cell_type": "code",
   "execution_count": 15,
   "id": "77842777-93ec-4e97-a0f7-8edd72041d9d",
   "metadata": {
    "tags": []
   },
   "outputs": [
    {
     "data": {
      "text/plain": [
       "0.0"
      ]
     },
     "execution_count": 15,
     "metadata": {},
     "output_type": "execute_result"
    }
   ],
   "source": [
    "float(False)"
   ]
  },
  {
   "cell_type": "markdown",
   "id": "0213153a-f470-4ade-9981-41244b7c2ec0",
   "metadata": {
    "tags": []
   },
   "source": [
    "#### Expressions"
   ]
  },
  {
   "cell_type": "code",
   "execution_count": 19,
   "id": "170f9945-ba71-4237-ab56-c84134dc84d7",
   "metadata": {
    "tags": []
   },
   "outputs": [
    {
     "data": {
      "text/plain": [
       "15"
      ]
     },
     "execution_count": 19,
     "metadata": {},
     "output_type": "execute_result"
    }
   ],
   "source": [
    "#addition\n",
    "5 + 10"
   ]
  },
  {
   "cell_type": "code",
   "execution_count": 20,
   "id": "d83e0f3d-b5ab-482c-b274-6566f2ce9223",
   "metadata": {
    "tags": []
   },
   "outputs": [
    {
     "data": {
      "text/plain": [
       "-3"
      ]
     },
     "execution_count": 20,
     "metadata": {},
     "output_type": "execute_result"
    }
   ],
   "source": [
    "#Subtraction\n",
    "6-9"
   ]
  },
  {
   "cell_type": "code",
   "execution_count": 21,
   "id": "f6736dd6-8186-44aa-af02-abc1bc543afa",
   "metadata": {
    "tags": []
   },
   "outputs": [
    {
     "data": {
      "text/plain": [
       "0.5416666666666666"
      ]
     },
     "execution_count": 21,
     "metadata": {},
     "output_type": "execute_result"
    }
   ],
   "source": [
    "#division \n",
    "13/24"
   ]
  },
  {
   "cell_type": "code",
   "execution_count": 22,
   "id": "d1cab08c-f3d8-4754-a6da-9a457a84481a",
   "metadata": {
    "tags": []
   },
   "outputs": [
    {
     "data": {
      "text/plain": [
       "12"
      ]
     },
     "execution_count": 22,
     "metadata": {},
     "output_type": "execute_result"
    }
   ],
   "source": [
    "#multiplication\n",
    "3*4"
   ]
  },
  {
   "cell_type": "code",
   "execution_count": 35,
   "id": "87d6b082-89b0-4f82-b116-d86b269522bb",
   "metadata": {
    "tags": []
   },
   "outputs": [
    {
     "name": "stdout",
     "output_type": "stream",
     "text": [
      "4\n",
      "4.166666666666667\n"
     ]
    }
   ],
   "source": [
    "# You can also use // to divide and result in a rounded result\n",
    "print(25//6)\n",
    "print(25/6)\n"
   ]
  },
  {
   "cell_type": "code",
   "execution_count": 37,
   "id": "ed2dcf0a-14ac-494b-9601-1359dbd2799a",
   "metadata": {
    "tags": []
   },
   "outputs": [
    {
     "data": {
      "text/plain": [
       "5"
      ]
     },
     "execution_count": 37,
     "metadata": {},
     "output_type": "execute_result"
    }
   ],
   "source": [
    "11//2"
   ]
  },
  {
   "cell_type": "markdown",
   "id": "58474e45-1eac-467f-8d93-b9e27bbbdead",
   "metadata": {},
   "source": [
    "#### Variables\n",
    "- We use variables to store values\n",
    "- It's good practice to use meaningful variable names; so, you don't have to keep track of what the variable is doing"
   ]
  },
  {
   "cell_type": "code",
   "execution_count": 38,
   "id": "10d20d85-c256-44d3-ab57-378ab8830759",
   "metadata": {
    "tags": []
   },
   "outputs": [],
   "source": [
    "my_variable = 1"
   ]
  },
  {
   "cell_type": "code",
   "execution_count": 40,
   "id": "f930a763-7fd5-4701-881b-bfc00fd7ed4e",
   "metadata": {
    "tags": []
   },
   "outputs": [
    {
     "name": "stdout",
     "output_type": "stream",
     "text": [
      "1\n"
     ]
    }
   ],
   "source": [
    "print(my_variable)"
   ]
  },
  {
   "cell_type": "code",
   "execution_count": 43,
   "id": "85422bf0-98cd-4f8d-9318-af747ff958b0",
   "metadata": {
    "tags": []
   },
   "outputs": [],
   "source": [
    "my_variable = 24 +13 +123"
   ]
  },
  {
   "cell_type": "code",
   "execution_count": 46,
   "id": "cc47347c-db35-4dd2-ac02-739b89ccc62f",
   "metadata": {
    "tags": []
   },
   "outputs": [],
   "source": [
    "my_variable = my_variable * 2"
   ]
  },
  {
   "cell_type": "code",
   "execution_count": 47,
   "id": "a2d77c15-20f7-464d-9298-2cb6e8c13a56",
   "metadata": {
    "tags": []
   },
   "outputs": [
    {
     "name": "stdout",
     "output_type": "stream",
     "text": [
      "640\n"
     ]
    }
   ],
   "source": [
    "print(my_variable)"
   ]
  },
  {
   "cell_type": "code",
   "execution_count": 49,
   "id": "7e5b8326-92a4-4516-8c4d-e7ec1ec72489",
   "metadata": {
    "tags": []
   },
   "outputs": [
    {
     "name": "stdout",
     "output_type": "stream",
     "text": [
      "1.5\n"
     ]
    }
   ],
   "source": [
    "# Example : We want to convert a time colume in a data set. The current value is set in hours and we want to convert to mins\n",
    "\n",
    "total_min = 43 +23 + 24\n",
    "total_hour = total_min /60\n",
    "print(total_hour)"
   ]
  },
  {
   "cell_type": "markdown",
   "id": "3c59d1be-84c3-44ff-8cad-0e7a1eb9c3a9",
   "metadata": {
    "jp-MarkdownHeadingCollapsed": true,
    "tags": []
   },
   "source": [
    "### String Operations\n",
    "- A string is contained within two quotes\n",
    "- Can also use single quotes\n",
    "- Can also be special charaters\n",
    "- Can also be digits\n",
    "It is helpful to think of a string as an ordered sequence. Each element in the squence can be accessed using indexing starting at 0"
   ]
  },
  {
   "cell_type": "code",
   "execution_count": 57,
   "id": "5ae65cee-c497-427c-b9a9-f3a68a61defe",
   "metadata": {
    "tags": []
   },
   "outputs": [
    {
     "data": {
      "text/plain": [
       "'Hello world'"
      ]
     },
     "execution_count": 57,
     "metadata": {},
     "output_type": "execute_result"
    }
   ],
   "source": [
    "# Two quotes\n",
    "\"Hello world\""
   ]
  },
  {
   "cell_type": "code",
   "execution_count": 58,
   "id": "a88a9478-4417-4b00-9be4-7f104f51bbe3",
   "metadata": {
    "tags": []
   },
   "outputs": [
    {
     "data": {
      "text/plain": [
       "'Hello world'"
      ]
     },
     "execution_count": 58,
     "metadata": {},
     "output_type": "execute_result"
    }
   ],
   "source": [
    "# Single quotes\n",
    "'Hello world'"
   ]
  },
  {
   "cell_type": "code",
   "execution_count": 59,
   "id": "777bc1f5-34f4-4f9f-8831-4b5aa33676f2",
   "metadata": {
    "tags": []
   },
   "outputs": [
    {
     "data": {
      "text/plain": [
       "'$7(#$&(*'"
      ]
     },
     "execution_count": 59,
     "metadata": {},
     "output_type": "execute_result"
    }
   ],
   "source": [
    "#Special charaters\n",
    "\"$7(#$&(*\""
   ]
  },
  {
   "cell_type": "code",
   "execution_count": 56,
   "id": "95126ba2-5a54-47b2-b1f9-c3f38ca08689",
   "metadata": {
    "tags": []
   },
   "outputs": [
    {
     "data": {
      "text/plain": [
       "'3453514'"
      ]
     },
     "execution_count": 56,
     "metadata": {},
     "output_type": "execute_result"
    }
   ],
   "source": [
    "# Digits\n",
    "\"3453514\""
   ]
  },
  {
   "cell_type": "markdown",
   "id": "7a374fc0-eebb-46d4-b201-9b9b50ba0f8b",
   "metadata": {
    "jp-MarkdownHeadingCollapsed": true,
    "tags": []
   },
   "source": [
    "#### Indexing"
   ]
  },
  {
   "cell_type": "code",
   "execution_count": 61,
   "id": "5a1a18be-1279-4598-809b-0707140f4114",
   "metadata": {
    "tags": []
   },
   "outputs": [],
   "source": [
    "# Indexing\n",
    "# Name = Michael Jackson\n",
    "#        0123456 7 8910111211314\n",
    "name = \"michael jackson\""
   ]
  },
  {
   "cell_type": "code",
   "execution_count": 62,
   "id": "f4594591-e4f2-465e-80a5-8b21fee28ac1",
   "metadata": {
    "tags": []
   },
   "outputs": [
    {
     "data": {
      "text/plain": [
       "'m'"
      ]
     },
     "execution_count": 62,
     "metadata": {},
     "output_type": "execute_result"
    }
   ],
   "source": [
    "# You can index by calling the variable and brackets, then specifiy the location of the letter\n",
    "name[0]"
   ]
  },
  {
   "cell_type": "code",
   "execution_count": 63,
   "id": "dc69a1d7-0fd3-49f4-9df5-a2f8f237ad99",
   "metadata": {
    "tags": []
   },
   "outputs": [
    {
     "data": {
      "text/plain": [
       "'i'"
      ]
     },
     "execution_count": 63,
     "metadata": {},
     "output_type": "execute_result"
    }
   ],
   "source": [
    "name[1]"
   ]
  },
  {
   "cell_type": "code",
   "execution_count": 64,
   "id": "4e1f58ac-c3d8-40ed-b7a1-331e1b52d3e4",
   "metadata": {
    "tags": []
   },
   "outputs": [],
   "source": [
    "# Can also use negative indexing\n",
    "# negative Indexing\n",
    "# Name = Michael Jackson\n",
    "#        -15|-14|-13|-12|-11|-10|-9| |-7|-6|-5|-4|-3|-2|-1\n",
    "name = \"michael jackson\""
   ]
  },
  {
   "cell_type": "code",
   "execution_count": 65,
   "id": "b3a374b9-6ea3-41a6-bfa5-9ff69cdc5aad",
   "metadata": {
    "tags": []
   },
   "outputs": [
    {
     "data": {
      "text/plain": [
       "'k'"
      ]
     },
     "execution_count": 65,
     "metadata": {},
     "output_type": "execute_result"
    }
   ],
   "source": [
    "name[-4]"
   ]
  },
  {
   "cell_type": "code",
   "execution_count": 66,
   "id": "c22f57b0-9d17-4528-8305-05f6fbf0471f",
   "metadata": {
    "tags": []
   },
   "outputs": [
    {
     "data": {
      "text/plain": [
       "'m'"
      ]
     },
     "execution_count": 66,
     "metadata": {},
     "output_type": "execute_result"
    }
   ],
   "source": [
    "name[-15]"
   ]
  },
  {
   "cell_type": "markdown",
   "id": "3c61c3ef-9656-4e55-91a4-5caf35530f45",
   "metadata": {},
   "source": [
    "#### Slicing\n",
    "- We can select a range of elements"
   ]
  },
  {
   "cell_type": "code",
   "execution_count": 67,
   "id": "ae9ed456-831e-4f05-96b3-5616c2f97e11",
   "metadata": {
    "tags": []
   },
   "outputs": [
    {
     "data": {
      "text/plain": [
       "'chael '"
      ]
     },
     "execution_count": 67,
     "metadata": {},
     "output_type": "execute_result"
    }
   ],
   "source": [
    "name[2:8]"
   ]
  },
  {
   "cell_type": "code",
   "execution_count": 68,
   "id": "bb9892d8-7078-4189-9248-86faef42d1d5",
   "metadata": {
    "tags": []
   },
   "outputs": [],
   "source": [
    "# If we also input a Stride value"
   ]
  },
  {
   "cell_type": "code",
   "execution_count": 69,
   "id": "8363a00d-d10d-4cad-944e-3133d2b239f5",
   "metadata": {
    "tags": []
   },
   "outputs": [
    {
     "data": {
      "text/plain": [
       "'mcaljcsn'"
      ]
     },
     "execution_count": 69,
     "metadata": {},
     "output_type": "execute_result"
    }
   ],
   "source": [
    "#The two indicates we select every secound variable\n",
    "name[::2]"
   ]
  },
  {
   "cell_type": "code",
   "execution_count": 70,
   "id": "c529392f-a00a-40c5-8e70-ffed9b5368fa",
   "metadata": {
    "tags": []
   },
   "outputs": [
    {
     "data": {
      "text/plain": [
       "'mca'"
      ]
     },
     "execution_count": 70,
     "metadata": {},
     "output_type": "execute_result"
    }
   ],
   "source": [
    "# We can also incorprate slicing\n",
    "name[0:5:2]"
   ]
  },
  {
   "cell_type": "code",
   "execution_count": 71,
   "id": "1d4416db-101a-4770-98b5-0659efa5c596",
   "metadata": {
    "tags": []
   },
   "outputs": [],
   "source": [
    "# can use the length command len() to find the length of the tuple or string"
   ]
  },
  {
   "cell_type": "code",
   "execution_count": 72,
   "id": "9e1e94f0-b90e-4312-8ed0-30461d930a93",
   "metadata": {
    "tags": []
   },
   "outputs": [
    {
     "data": {
      "text/plain": [
       "15"
      ]
     },
     "execution_count": 72,
     "metadata": {},
     "output_type": "execute_result"
    }
   ],
   "source": [
    "len(name)"
   ]
  },
  {
   "cell_type": "markdown",
   "id": "089695d7-c0c5-4e2b-a79a-42158ca89c05",
   "metadata": {
    "jp-MarkdownHeadingCollapsed": true,
    "tags": []
   },
   "source": [
    "#### Concatenate or combine strings"
   ]
  },
  {
   "cell_type": "code",
   "execution_count": 75,
   "id": "dab28636-e227-4edc-b10b-2b593be20489",
   "metadata": {
    "tags": []
   },
   "outputs": [],
   "source": [
    "\n",
    "statement = name + \" is cool\""
   ]
  },
  {
   "cell_type": "code",
   "execution_count": 76,
   "id": "f1b365df-952d-46ce-ade7-9cfbef78f30f",
   "metadata": {
    "tags": []
   },
   "outputs": [
    {
     "name": "stdout",
     "output_type": "stream",
     "text": [
      "michael jackson is cool\n"
     ]
    }
   ],
   "source": [
    "print(statement)"
   ]
  },
  {
   "cell_type": "code",
   "execution_count": 73,
   "id": "d8cd15b7-5c3c-4ee1-8678-13a84893718a",
   "metadata": {
    "tags": []
   },
   "outputs": [
    {
     "data": {
      "text/plain": [
       "11"
      ]
     },
     "execution_count": 73,
     "metadata": {},
     "output_type": "execute_result"
    }
   ],
   "source": [
    "len(\"Hello World\")"
   ]
  },
  {
   "cell_type": "code",
   "execution_count": 77,
   "id": "68a8b329-1421-4c65-8fce-dce24f9f5005",
   "metadata": {
    "tags": []
   },
   "outputs": [],
   "source": [
    "#### replicate the value of a string"
   ]
  },
  {
   "cell_type": "code",
   "execution_count": 78,
   "id": "c961e110-2d4b-4560-b15f-72105ecd014b",
   "metadata": {
    "tags": []
   },
   "outputs": [
    {
     "data": {
      "text/plain": [
       "'michael jacksonmichael jacksonmichael jackson'"
      ]
     },
     "execution_count": 78,
     "metadata": {},
     "output_type": "execute_result"
    }
   ],
   "source": [
    "name * 3"
   ]
  },
  {
   "cell_type": "code",
   "execution_count": 79,
   "id": "5148c840-4756-4c40-afe3-ec1692939069",
   "metadata": {
    "tags": []
   },
   "outputs": [
    {
     "data": {
      "text/plain": [
       "'hello worldhello worldhello world'"
      ]
     },
     "execution_count": 79,
     "metadata": {},
     "output_type": "execute_result"
    }
   ],
   "source": [
    "\"hello world\" * 3"
   ]
  },
  {
   "cell_type": "markdown",
   "id": "98147d57-3905-45ad-9f66-13cde89aafce",
   "metadata": {
    "tags": []
   },
   "source": [
    "#### Escape sequences\n",
    "- \\ are meant to process escape sequences\n",
    "- escape sequences are strings that are difficult to input"
   ]
  },
  {
   "cell_type": "code",
   "execution_count": 80,
   "id": "e7d45530-251b-4de8-8525-c4d36d27fd7f",
   "metadata": {
    "tags": []
   },
   "outputs": [
    {
     "name": "stdout",
     "output_type": "stream",
     "text": [
      "Michael Jackson \n",
      " is the best\n"
     ]
    }
   ],
   "source": [
    "# /n represents enter\n",
    "print(\"Michael Jackson \\n is the best\")"
   ]
  },
  {
   "cell_type": "code",
   "execution_count": 81,
   "id": "78c7b44e-29f3-4e53-bb38-aafeaa76da4c",
   "metadata": {
    "tags": []
   },
   "outputs": [
    {
     "name": "stdout",
     "output_type": "stream",
     "text": [
      "Michael Jackson \t is the best\n"
     ]
    }
   ],
   "source": [
    "# /t represents Tab\n",
    "print(\"Michael Jackson \\t is the best\")"
   ]
  },
  {
   "cell_type": "code",
   "execution_count": 82,
   "id": "05c5faa0-d149-4151-a6a7-e936c8fcdbee",
   "metadata": {
    "tags": []
   },
   "outputs": [
    {
     "name": "stdout",
     "output_type": "stream",
     "text": [
      "Michael Jackson \\ is the best\n"
     ]
    }
   ],
   "source": [
    "# if you want to and a backslash to your string \n",
    "print(\"Michael Jackson \\\\ is the best\")"
   ]
  },
  {
   "cell_type": "markdown",
   "id": "97bb8d94-f1a3-4fa3-90f8-b2203ca55c90",
   "metadata": {
    "tags": []
   },
   "source": [
    "#### String Methods\n",
    "- Strings are sequences and as such, have apply methods that work on lists and tuples. Strings also have a second set of methods that just work on strings.\n",
    "- When an method is applied it creates a new string ie. A + Method = B"
   ]
  },
  {
   "cell_type": "code",
   "execution_count": 1,
   "id": "d28da952-cbae-4305-9932-8a01f9bb0dae",
   "metadata": {
    "tags": []
   },
   "outputs": [
    {
     "name": "stdout",
     "output_type": "stream",
     "text": [
      "thriller is the sixth studio album\n"
     ]
    }
   ],
   "source": [
    "a = \"thriller is the sixth studio album\"\n",
    "print(a)"
   ]
  },
  {
   "cell_type": "markdown",
   "id": "f5f076e7-afcd-44fa-916c-352b87963b4c",
   "metadata": {},
   "source": [
    "##### Upper"
   ]
  },
  {
   "cell_type": "code",
   "execution_count": 2,
   "id": "bee56648-37f2-4e44-89f7-948629c683d0",
   "metadata": {
    "tags": []
   },
   "outputs": [
    {
     "name": "stdout",
     "output_type": "stream",
     "text": [
      "THRILLER IS THE SIXTH STUDIO ALBUM\n"
     ]
    }
   ],
   "source": [
    "# Using upper to capitilze all charaters in the string\n",
    "b = a.upper()\n",
    "print(b)"
   ]
  },
  {
   "cell_type": "markdown",
   "id": "0fb9745c-0249-4bc3-8e24-cd46bbbd3d63",
   "metadata": {
    "tags": []
   },
   "source": [
    "##### Replace"
   ]
  },
  {
   "cell_type": "code",
   "execution_count": 5,
   "id": "9342e659-632e-42a7-b1d1-a629aeb4b5be",
   "metadata": {
    "tags": []
   },
   "outputs": [
    {
     "name": "stdout",
     "output_type": "stream",
     "text": [
      "Janet jackson is the best\n"
     ]
    }
   ],
   "source": [
    "# Replace. You input the part of the string you want to change. For example replacing 'michael with 'janet'\n",
    "a = 'Michael jackson is the best'\n",
    "b = a.replace('Michael','Janet')\n",
    "print(b)\n"
   ]
  },
  {
   "cell_type": "markdown",
   "id": "35ef3ad9-6610-4164-a67d-a72ca1277ce8",
   "metadata": {},
   "source": [
    "##### Find"
   ]
  },
  {
   "cell_type": "code",
   "execution_count": 7,
   "id": "f536fd9e-e053-4661-a09f-8be2d02ed4cc",
   "metadata": {
    "tags": []
   },
   "outputs": [],
   "source": [
    "# We use find to locate substrings. It prints the value of the START of the substring. If nothing is found it will result in a -1"
   ]
  },
  {
   "cell_type": "code",
   "execution_count": 10,
   "id": "44b317d2-a05e-41c5-b800-e6462dd5b6d8",
   "metadata": {
    "tags": []
   },
   "outputs": [
    {
     "data": {
      "text/plain": [
       "5"
      ]
     },
     "execution_count": 10,
     "metadata": {},
     "output_type": "execute_result"
    }
   ],
   "source": [
    "Name = \"Michael Jackson\"\n",
    "Name.find('el')"
   ]
  },
  {
   "cell_type": "code",
   "execution_count": 13,
   "id": "019b612c-3681-4fc2-b8d8-4f5829cd6464",
   "metadata": {
    "tags": []
   },
   "outputs": [
    {
     "data": {
      "text/plain": [
       "8"
      ]
     },
     "execution_count": 13,
     "metadata": {},
     "output_type": "execute_result"
    }
   ],
   "source": [
    "Name.find('Jack')"
   ]
  },
  {
   "cell_type": "code",
   "execution_count": 20,
   "id": "22bb8ade-04f8-4d0a-8f02-f274424283cc",
   "metadata": {
    "tags": []
   },
   "outputs": [
    {
     "data": {
      "text/plain": [
       "-1"
      ]
     },
     "execution_count": 20,
     "metadata": {},
     "output_type": "execute_result"
    }
   ],
   "source": [
    "Name.find('$$')"
   ]
  },
  {
   "cell_type": "markdown",
   "id": "1fb0d917-8b6b-45b2-aee7-9be5cc284850",
   "metadata": {
    "jp-MarkdownHeadingCollapsed": true,
    "tags": []
   },
   "source": [
    "### Tuples\n",
    "- Tubles are and ordered sequence\n",
    "- Here is a Tuple \"Ratings\"\n",
    "- Tuples are written as comma-separated elements within parentheses\n",
    "- ex Ratings= (10,9,8,7,6,5,4,3,2,1,)\n",
    "- Types of tubles are string, int, and float\n",
    "- ex tuple1= ('disco',10,1.2)\n",
    "- Tuples are __IMMUTABLE__"
   ]
  },
  {
   "cell_type": "code",
   "execution_count": 21,
   "id": "e7413484-ec81-45c7-9f03-51316fbba85f",
   "metadata": {
    "tags": []
   },
   "outputs": [],
   "source": [
    "tuple1= (\"disco\",10,1.2)"
   ]
  },
  {
   "cell_type": "code",
   "execution_count": 22,
   "id": "b965d35e-3251-4f40-9d80-1537b68f7c61",
   "metadata": {
    "tags": []
   },
   "outputs": [
    {
     "data": {
      "text/plain": [
       "tuple"
      ]
     },
     "execution_count": 22,
     "metadata": {},
     "output_type": "execute_result"
    }
   ],
   "source": [
    "type(tuple1)"
   ]
  },
  {
   "cell_type": "code",
   "execution_count": 23,
   "id": "ede1f912-dfb3-4404-8781-32d2afaa26df",
   "metadata": {
    "tags": []
   },
   "outputs": [
    {
     "data": {
      "text/plain": [
       "10"
      ]
     },
     "execution_count": 23,
     "metadata": {},
     "output_type": "execute_result"
    }
   ],
   "source": [
    "# You can index a tuple in the same way you can index strings\n",
    "tuple1[1]"
   ]
  },
  {
   "cell_type": "code",
   "execution_count": 24,
   "id": "14c9efbd-502b-4532-89c3-658b0ad7ddda",
   "metadata": {
    "tags": []
   },
   "outputs": [
    {
     "data": {
      "text/plain": [
       "'disco'"
      ]
     },
     "execution_count": 24,
     "metadata": {},
     "output_type": "execute_result"
    }
   ],
   "source": [
    "# you can also use negative index\n",
    "tuple1[-3]"
   ]
  },
  {
   "cell_type": "code",
   "execution_count": 25,
   "id": "e0fd1674-bd5b-4cb1-b8eb-3657ec20cf95",
   "metadata": {
    "tags": []
   },
   "outputs": [],
   "source": [
    "# you can concatenate or combine tuples by adding them"
   ]
  },
  {
   "cell_type": "code",
   "execution_count": 29,
   "id": "72c7c3ca-872c-45d7-95b4-5cd5a53c7540",
   "metadata": {
    "tags": []
   },
   "outputs": [
    {
     "name": "stdout",
     "output_type": "stream",
     "text": [
      "('disco', 10, 1.2, 'hard rock', 4, 3.2)\n"
     ]
    }
   ],
   "source": [
    "print(tuple1 + (\"hard rock\",4,3.2))"
   ]
  },
  {
   "cell_type": "code",
   "execution_count": 30,
   "id": "65bf88a6-0a08-4aff-8d6a-f2ae3c8474b7",
   "metadata": {
    "tags": []
   },
   "outputs": [
    {
     "data": {
      "text/plain": [
       "('disco', 10, 1.2)"
      ]
     },
     "execution_count": 30,
     "metadata": {},
     "output_type": "execute_result"
    }
   ],
   "source": [
    "# slicing\n",
    "tuple1[:3]"
   ]
  },
  {
   "cell_type": "code",
   "execution_count": 31,
   "id": "02a00972-cf93-41ed-b6fc-d88726730255",
   "metadata": {
    "tags": []
   },
   "outputs": [
    {
     "data": {
      "text/plain": [
       "(10, 1.2)"
      ]
     },
     "execution_count": 31,
     "metadata": {},
     "output_type": "execute_result"
    }
   ],
   "source": [
    "tuple1[1:3]"
   ]
  },
  {
   "cell_type": "code",
   "execution_count": 34,
   "id": "82e55bcc-7076-4041-92eb-85a68d0be603",
   "metadata": {
    "tags": []
   },
   "outputs": [
    {
     "data": {
      "text/plain": [
       "3"
      ]
     },
     "execution_count": 34,
     "metadata": {},
     "output_type": "execute_result"
    }
   ],
   "source": [
    "# can also use the len() to get the legnth of the tuple\n",
    "len(tuple1)"
   ]
  },
  {
   "cell_type": "code",
   "execution_count": 43,
   "id": "86ede8ac-66cb-43e7-bf45-d6f36748d60b",
   "metadata": {
    "tags": []
   },
   "outputs": [
    {
     "name": "stdout",
     "output_type": "stream",
     "text": [
      "[2, 4, 5, 5, 6, 7, 10]\n"
     ]
    }
   ],
   "source": [
    "# If you would like to maniplute a tuple, you need to assign it to a new variable\n",
    "ratings = (10,5,4,5,6,7,2)\n",
    "ratings1 = sorted(ratings)\n",
    "print(ratings1)"
   ]
  },
  {
   "cell_type": "markdown",
   "id": "2116cccc-dcfa-425e-9413-f86ee527fcb6",
   "metadata": {
    "tags": []
   },
   "source": [
    "#### Nesting\n",
    "- You can index in that standard way\n",
    "- You can also index the subindex ex. nt[3][0]\n",
    "- You can also inex futher nt[2][0][1]"
   ]
  },
  {
   "cell_type": "code",
   "execution_count": 57,
   "id": "ee91c17b-3cfe-4d41-91a1-0f630f7cd6b5",
   "metadata": {
    "tags": []
   },
   "outputs": [],
   "source": [
    "nt = (1,2,(\"Pop\",\"rock\"), (3,4), (\"disco\", (1,2)))"
   ]
  },
  {
   "cell_type": "code",
   "execution_count": 58,
   "id": "f13d68d0-2440-4237-a8cf-7a6daf36ba10",
   "metadata": {
    "tags": []
   },
   "outputs": [
    {
     "data": {
      "text/plain": [
       "(3, 4)"
      ]
     },
     "execution_count": 58,
     "metadata": {},
     "output_type": "execute_result"
    }
   ],
   "source": [
    "nt[3]"
   ]
  },
  {
   "cell_type": "code",
   "execution_count": 59,
   "id": "5fd3f84b-2bf5-4ea2-9053-19d2e4bb63c3",
   "metadata": {
    "tags": []
   },
   "outputs": [
    {
     "data": {
      "text/plain": [
       "2"
      ]
     },
     "execution_count": 59,
     "metadata": {},
     "output_type": "execute_result"
    }
   ],
   "source": [
    "nt[1]"
   ]
  },
  {
   "cell_type": "code",
   "execution_count": 60,
   "id": "aa22872c-7e4a-4a9d-8d68-521d53cd052c",
   "metadata": {
    "tags": []
   },
   "outputs": [
    {
     "data": {
      "text/plain": [
       "3"
      ]
     },
     "execution_count": 60,
     "metadata": {},
     "output_type": "execute_result"
    }
   ],
   "source": [
    "nt[3][0]"
   ]
  },
  {
   "cell_type": "code",
   "execution_count": 62,
   "id": "ca588035-f091-40b6-a465-6547769a0e4e",
   "metadata": {
    "tags": []
   },
   "outputs": [
    {
     "data": {
      "text/plain": [
       "'o'"
      ]
     },
     "execution_count": 62,
     "metadata": {},
     "output_type": "execute_result"
    }
   ],
   "source": [
    "nt[2][0][1]"
   ]
  },
  {
   "cell_type": "markdown",
   "id": "f8dbe4f5-adb5-4b7b-8562-6b75b8bb0645",
   "metadata": {},
   "source": [
    "### Lists\n",
    "- Lists are ordered sequences\n",
    "- Here is a list \"L\"\n",
    "- A list is represented with square brackets\n",
    "- List are __MUTABLE__\n",
    "- L = [\"michael jackson\", 10.1, 1992]\n",
    "- Lists can contain str, int, floats, other lists, tuples and other data structures"
   ]
  },
  {
   "cell_type": "code",
   "execution_count": 63,
   "id": "958c82b9-db82-4276-b596-2d8ff99b5678",
   "metadata": {
    "tags": []
   },
   "outputs": [
    {
     "data": {
      "text/plain": [
       "'Michael Jackson'"
      ]
     },
     "execution_count": 63,
     "metadata": {},
     "output_type": "execute_result"
    }
   ],
   "source": [
    "# standard indexing applies to lists\n",
    "L = [\"Michael Jackson\", 10.1, 1992]\n",
    "L[0]"
   ]
  },
  {
   "cell_type": "code",
   "execution_count": 65,
   "id": "670b253b-f164-4831-a5d4-ed1727db2bad",
   "metadata": {
    "tags": []
   },
   "outputs": [
    {
     "data": {
      "text/plain": [
       "'Michael'"
      ]
     },
     "execution_count": 65,
     "metadata": {},
     "output_type": "execute_result"
    }
   ],
   "source": [
    "L[0][:7]"
   ]
  },
  {
   "cell_type": "code",
   "execution_count": 66,
   "id": "378aa300-8056-4a07-ba6f-f57873432841",
   "metadata": {
    "tags": []
   },
   "outputs": [
    {
     "ename": "AttributeError",
     "evalue": "'list' object has no attribute 'replace'",
     "output_type": "error",
     "traceback": [
      "\u001b[1;31m---------------------------------------------------------------------------\u001b[0m",
      "\u001b[1;31mAttributeError\u001b[0m                            Traceback (most recent call last)",
      "Cell \u001b[1;32mIn[66], line 1\u001b[0m\n\u001b[1;32m----> 1\u001b[0m L\u001b[38;5;241m.\u001b[39mreplace[\u001b[38;5;124m\"\u001b[39m\u001b[38;5;124mMichael Jackson\u001b[39m\u001b[38;5;124m\"\u001b[39m,\u001b[38;5;124m\"\u001b[39m\u001b[38;5;124mNicholaus Jackson\u001b[39m\u001b[38;5;124m\"\u001b[39m]\n",
      "\u001b[1;31mAttributeError\u001b[0m: 'list' object has no attribute 'replace'"
     ]
    }
   ],
   "source": [
    "L.replace[\"Michael Jackson\",\"Nicholaus Jackson\"]"
   ]
  },
  {
   "cell_type": "code",
   "execution_count": null,
   "id": "31d763fb-bff8-4867-b360-75d1290a8a42",
   "metadata": {},
   "outputs": [],
   "source": []
  }
 ],
 "metadata": {
  "kernelspec": {
   "display_name": "Python 3 (ipykernel)",
   "language": "python",
   "name": "python3"
  },
  "language_info": {
   "codemirror_mode": {
    "name": "ipython",
    "version": 3
   },
   "file_extension": ".py",
   "mimetype": "text/x-python",
   "name": "python",
   "nbconvert_exporter": "python",
   "pygments_lexer": "ipython3",
   "version": "3.11.4"
  }
 },
 "nbformat": 4,
 "nbformat_minor": 5
}
