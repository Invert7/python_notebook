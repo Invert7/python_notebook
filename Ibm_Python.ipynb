{
 "cells": [
  {
   "cell_type": "markdown",
   "id": "7aa24cbd-9fac-464b-9a6f-e0a70879483f",
   "metadata": {},
   "source": [
    "# IMB Python Notes"
   ]
  },
  {
   "cell_type": "markdown",
   "id": "6c07a135-7d9b-42f3-a533-709577763f06",
   "metadata": {},
   "source": [
    "### Version Check\n",
    "- This is how you can check what python version you are running"
   ]
  },
  {
   "cell_type": "code",
   "execution_count": 50,
   "id": "80b46fa0-7b6f-4c2e-aca5-704f2164f323",
   "metadata": {
    "tags": []
   },
   "outputs": [
    {
     "name": "stdout",
     "output_type": "stream",
     "text": [
      "3.11.4 | packaged by Anaconda, Inc. | (main, Jul  5 2023, 13:38:37) [MSC v.1916 64 bit (AMD64)]\n"
     ]
    }
   ],
   "source": [
    "import sys\n",
    "print(sys.version)"
   ]
  },
  {
   "cell_type": "markdown",
   "id": "5929f8b7-6ade-49fc-b4d5-27d8e94a0396",
   "metadata": {
    "jp-MarkdownHeadingCollapsed": true,
    "tags": []
   },
   "source": [
    "### Types\n",
    "- The basic types are intagers , Floats and Strings\n",
    "- You can verify the type by using the type() expression"
   ]
  },
  {
   "cell_type": "code",
   "execution_count": 3,
   "id": "8ea98860-c71f-4bc9-ae1f-6a18328c470d",
   "metadata": {
    "tags": []
   },
   "outputs": [
    {
     "data": {
      "text/plain": [
       "8"
      ]
     },
     "execution_count": 3,
     "metadata": {},
     "output_type": "execute_result"
    }
   ],
   "source": [
    "#int\n",
    "8"
   ]
  },
  {
   "cell_type": "code",
   "execution_count": 4,
   "id": "911de940-4bfb-4c98-b1d8-5d06ae247f4e",
   "metadata": {
    "tags": []
   },
   "outputs": [
    {
     "data": {
      "text/plain": [
       "23.223"
      ]
     },
     "execution_count": 4,
     "metadata": {},
     "output_type": "execute_result"
    }
   ],
   "source": [
    "#float\n",
    "23.223"
   ]
  },
  {
   "cell_type": "code",
   "execution_count": 5,
   "id": "7c391e01-79c9-4649-8516-517467b62a4a",
   "metadata": {
    "tags": []
   },
   "outputs": [
    {
     "name": "stdout",
     "output_type": "stream",
     "text": [
      "Hello World\n"
     ]
    }
   ],
   "source": [
    "#string\n",
    "print(\"Hello World\")"
   ]
  },
  {
   "cell_type": "markdown",
   "id": "2b5e7cf0-e285-4343-bd97-9b8bd7574787",
   "metadata": {
    "tags": []
   },
   "source": [
    "#### Type casting\n",
    "You can change the value of the type by type casting"
   ]
  },
  {
   "cell_type": "code",
   "execution_count": 18,
   "id": "30877ade-f690-46bd-953b-fcec6586acdc",
   "metadata": {
    "tags": []
   },
   "outputs": [
    {
     "data": {
      "text/plain": [
       "7.0"
      ]
     },
     "execution_count": 18,
     "metadata": {},
     "output_type": "execute_result"
    }
   ],
   "source": [
    "# Int to float\n",
    "float(7)"
   ]
  },
  {
   "cell_type": "code",
   "execution_count": 8,
   "id": "210191e0-08c8-4618-964c-e9d331d01039",
   "metadata": {
    "tags": []
   },
   "outputs": [
    {
     "data": {
      "text/plain": [
       "5"
      ]
     },
     "execution_count": 8,
     "metadata": {},
     "output_type": "execute_result"
    }
   ],
   "source": [
    "# float to int (Before careful with this, you will clip the number)\n",
    "int(5.6)"
   ]
  },
  {
   "cell_type": "code",
   "execution_count": 9,
   "id": "610399e7-db36-4694-9cfa-161b2b72aebb",
   "metadata": {
    "tags": []
   },
   "outputs": [
    {
     "data": {
      "text/plain": [
       "1.0"
      ]
     },
     "execution_count": 9,
     "metadata": {},
     "output_type": "execute_result"
    }
   ],
   "source": [
    "#Str to float ect\n",
    "float('1')"
   ]
  },
  {
   "cell_type": "code",
   "execution_count": 10,
   "id": "5b334d5b-ae4f-4e3c-b5d4-239503a3ed49",
   "metadata": {
    "tags": []
   },
   "outputs": [
    {
     "data": {
      "text/plain": [
       "'7'"
      ]
     },
     "execution_count": 10,
     "metadata": {},
     "output_type": "execute_result"
    }
   ],
   "source": [
    "# str to int\n",
    "str(7)"
   ]
  },
  {
   "cell_type": "code",
   "execution_count": 11,
   "id": "74e8f53b-38db-488e-afe1-1f2a1c1b7aeb",
   "metadata": {
    "tags": []
   },
   "outputs": [],
   "source": [
    "# You can also cast Booleans"
   ]
  },
  {
   "cell_type": "code",
   "execution_count": 13,
   "id": "ec8cb5a9-4133-481a-ab9d-be7227e9d7f9",
   "metadata": {
    "tags": []
   },
   "outputs": [
    {
     "data": {
      "text/plain": [
       "'True'"
      ]
     },
     "execution_count": 13,
     "metadata": {},
     "output_type": "execute_result"
    }
   ],
   "source": [
    "# true to str\n",
    "str(True)"
   ]
  },
  {
   "cell_type": "code",
   "execution_count": 14,
   "id": "da89d554-f229-413e-9656-cdb443c87102",
   "metadata": {
    "tags": []
   },
   "outputs": [
    {
     "data": {
      "text/plain": [
       "1"
      ]
     },
     "execution_count": 14,
     "metadata": {},
     "output_type": "execute_result"
    }
   ],
   "source": [
    "int(True)"
   ]
  },
  {
   "cell_type": "code",
   "execution_count": 51,
   "id": "d019bbfc-6185-4d60-b391-32bda607176e",
   "metadata": {
    "tags": []
   },
   "outputs": [
    {
     "data": {
      "text/plain": [
       "int"
      ]
     },
     "execution_count": 51,
     "metadata": {},
     "output_type": "execute_result"
    }
   ],
   "source": [
    "type(7)"
   ]
  },
  {
   "cell_type": "markdown",
   "id": "ecc1f878-aedd-4bc2-b532-930837336bcf",
   "metadata": {
    "tags": []
   },
   "source": [
    "### Expressions and Variables\n",
    "Expressions describe a type of operation the computers perform. Expressions are operations the python performs.\n",
    "- Example: (43 + 60 +16 + 41). We  call the numbers __operands__ and the math symbols are called __operators__\n",
    "- Python follows mathematical conventions when performing mathematical expressions"
   ]
  },
  {
   "cell_type": "code",
   "execution_count": 15,
   "id": "77842777-93ec-4e97-a0f7-8edd72041d9d",
   "metadata": {
    "tags": []
   },
   "outputs": [
    {
     "data": {
      "text/plain": [
       "0.0"
      ]
     },
     "execution_count": 15,
     "metadata": {},
     "output_type": "execute_result"
    }
   ],
   "source": [
    "float(False)"
   ]
  },
  {
   "cell_type": "markdown",
   "id": "0213153a-f470-4ade-9981-41244b7c2ec0",
   "metadata": {},
   "source": [
    "#### Expressions"
   ]
  },
  {
   "cell_type": "code",
   "execution_count": 19,
   "id": "170f9945-ba71-4237-ab56-c84134dc84d7",
   "metadata": {
    "tags": []
   },
   "outputs": [
    {
     "data": {
      "text/plain": [
       "15"
      ]
     },
     "execution_count": 19,
     "metadata": {},
     "output_type": "execute_result"
    }
   ],
   "source": [
    "#addition\n",
    "5 + 10"
   ]
  },
  {
   "cell_type": "code",
   "execution_count": 20,
   "id": "d83e0f3d-b5ab-482c-b274-6566f2ce9223",
   "metadata": {
    "tags": []
   },
   "outputs": [
    {
     "data": {
      "text/plain": [
       "-3"
      ]
     },
     "execution_count": 20,
     "metadata": {},
     "output_type": "execute_result"
    }
   ],
   "source": [
    "#Subtraction\n",
    "6-9"
   ]
  },
  {
   "cell_type": "code",
   "execution_count": 21,
   "id": "f6736dd6-8186-44aa-af02-abc1bc543afa",
   "metadata": {
    "tags": []
   },
   "outputs": [
    {
     "data": {
      "text/plain": [
       "0.5416666666666666"
      ]
     },
     "execution_count": 21,
     "metadata": {},
     "output_type": "execute_result"
    }
   ],
   "source": [
    "#division \n",
    "13/24"
   ]
  },
  {
   "cell_type": "code",
   "execution_count": 22,
   "id": "d1cab08c-f3d8-4754-a6da-9a457a84481a",
   "metadata": {
    "tags": []
   },
   "outputs": [
    {
     "data": {
      "text/plain": [
       "12"
      ]
     },
     "execution_count": 22,
     "metadata": {},
     "output_type": "execute_result"
    }
   ],
   "source": [
    "#multiplication\n",
    "3*4"
   ]
  },
  {
   "cell_type": "code",
   "execution_count": 35,
   "id": "87d6b082-89b0-4f82-b116-d86b269522bb",
   "metadata": {
    "tags": []
   },
   "outputs": [
    {
     "name": "stdout",
     "output_type": "stream",
     "text": [
      "4\n",
      "4.166666666666667\n"
     ]
    }
   ],
   "source": [
    "# You can also use // to divide and result in a rounded result\n",
    "print(25//6)\n",
    "print(25/6)\n"
   ]
  },
  {
   "cell_type": "code",
   "execution_count": 37,
   "id": "ed2dcf0a-14ac-494b-9601-1359dbd2799a",
   "metadata": {
    "tags": []
   },
   "outputs": [
    {
     "data": {
      "text/plain": [
       "5"
      ]
     },
     "execution_count": 37,
     "metadata": {},
     "output_type": "execute_result"
    }
   ],
   "source": [
    "11//2"
   ]
  },
  {
   "cell_type": "markdown",
   "id": "58474e45-1eac-467f-8d93-b9e27bbbdead",
   "metadata": {},
   "source": [
    "#### Variables\n",
    "- We use variables to store values\n",
    "- It's good practice to use meaningful variable names; so, you don't have to keep track of what the variable is doing"
   ]
  },
  {
   "cell_type": "code",
   "execution_count": 38,
   "id": "10d20d85-c256-44d3-ab57-378ab8830759",
   "metadata": {
    "tags": []
   },
   "outputs": [],
   "source": [
    "my_variable = 1"
   ]
  },
  {
   "cell_type": "code",
   "execution_count": 40,
   "id": "f930a763-7fd5-4701-881b-bfc00fd7ed4e",
   "metadata": {
    "tags": []
   },
   "outputs": [
    {
     "name": "stdout",
     "output_type": "stream",
     "text": [
      "1\n"
     ]
    }
   ],
   "source": [
    "print(my_variable)"
   ]
  },
  {
   "cell_type": "code",
   "execution_count": 43,
   "id": "85422bf0-98cd-4f8d-9318-af747ff958b0",
   "metadata": {
    "tags": []
   },
   "outputs": [],
   "source": [
    "my_variable = 24 +13 +123"
   ]
  },
  {
   "cell_type": "code",
   "execution_count": 46,
   "id": "cc47347c-db35-4dd2-ac02-739b89ccc62f",
   "metadata": {
    "tags": []
   },
   "outputs": [],
   "source": [
    "my_variable = my_variable * 2"
   ]
  },
  {
   "cell_type": "code",
   "execution_count": 47,
   "id": "a2d77c15-20f7-464d-9298-2cb6e8c13a56",
   "metadata": {
    "tags": []
   },
   "outputs": [
    {
     "name": "stdout",
     "output_type": "stream",
     "text": [
      "640\n"
     ]
    }
   ],
   "source": [
    "print(my_variable)"
   ]
  },
  {
   "cell_type": "code",
   "execution_count": 49,
   "id": "7e5b8326-92a4-4516-8c4d-e7ec1ec72489",
   "metadata": {
    "tags": []
   },
   "outputs": [
    {
     "name": "stdout",
     "output_type": "stream",
     "text": [
      "1.5\n"
     ]
    }
   ],
   "source": [
    "# Example : We want to convert a time colume in a data set. The current value is set in hours and we want to convert to mins\n",
    "\n",
    "total_min = 43 +23 + 24\n",
    "total_hour = total_min /60\n",
    "print(total_hour)"
   ]
  },
  {
   "cell_type": "markdown",
   "id": "3c59d1be-84c3-44ff-8cad-0e7a1eb9c3a9",
   "metadata": {},
   "source": [
    "### String Operations\n",
    "- A string is contained within two quotes\n",
    "- Can also use single quotes\n",
    "- Can also be special charaters\n",
    "- Can also be digits\n",
    "It is helpful to think of a string as an ordered sequence. Each element in the squence can be accessed using indexing starting at 0"
   ]
  },
  {
   "cell_type": "code",
   "execution_count": 57,
   "id": "5ae65cee-c497-427c-b9a9-f3a68a61defe",
   "metadata": {
    "tags": []
   },
   "outputs": [
    {
     "data": {
      "text/plain": [
       "'Hello world'"
      ]
     },
     "execution_count": 57,
     "metadata": {},
     "output_type": "execute_result"
    }
   ],
   "source": [
    "# Two quotes\n",
    "\"Hello world\""
   ]
  },
  {
   "cell_type": "code",
   "execution_count": 58,
   "id": "a88a9478-4417-4b00-9be4-7f104f51bbe3",
   "metadata": {
    "tags": []
   },
   "outputs": [
    {
     "data": {
      "text/plain": [
       "'Hello world'"
      ]
     },
     "execution_count": 58,
     "metadata": {},
     "output_type": "execute_result"
    }
   ],
   "source": [
    "# Single quotes\n",
    "'Hello world'"
   ]
  },
  {
   "cell_type": "code",
   "execution_count": 59,
   "id": "777bc1f5-34f4-4f9f-8831-4b5aa33676f2",
   "metadata": {
    "tags": []
   },
   "outputs": [
    {
     "data": {
      "text/plain": [
       "'$7(#$&(*'"
      ]
     },
     "execution_count": 59,
     "metadata": {},
     "output_type": "execute_result"
    }
   ],
   "source": [
    "#Special charaters\n",
    "\"$7(#$&(*\""
   ]
  },
  {
   "cell_type": "code",
   "execution_count": 56,
   "id": "95126ba2-5a54-47b2-b1f9-c3f38ca08689",
   "metadata": {
    "tags": []
   },
   "outputs": [
    {
     "data": {
      "text/plain": [
       "'3453514'"
      ]
     },
     "execution_count": 56,
     "metadata": {},
     "output_type": "execute_result"
    }
   ],
   "source": [
    "# Digits\n",
    "\"3453514\""
   ]
  },
  {
   "cell_type": "markdown",
   "id": "7a374fc0-eebb-46d4-b201-9b9b50ba0f8b",
   "metadata": {},
   "source": [
    "#### Indexing"
   ]
  },
  {
   "cell_type": "code",
   "execution_count": 61,
   "id": "5a1a18be-1279-4598-809b-0707140f4114",
   "metadata": {
    "tags": []
   },
   "outputs": [],
   "source": [
    "# Indexing\n",
    "# Name = Michael Jackson\n",
    "#        0123456 7 8910111211314\n",
    "name = \"michael jackson\""
   ]
  },
  {
   "cell_type": "code",
   "execution_count": 62,
   "id": "f4594591-e4f2-465e-80a5-8b21fee28ac1",
   "metadata": {
    "tags": []
   },
   "outputs": [
    {
     "data": {
      "text/plain": [
       "'m'"
      ]
     },
     "execution_count": 62,
     "metadata": {},
     "output_type": "execute_result"
    }
   ],
   "source": [
    "# You can index by calling the variable and brackets, then specifiy the location of the letter\n",
    "name[0]"
   ]
  },
  {
   "cell_type": "code",
   "execution_count": 63,
   "id": "dc69a1d7-0fd3-49f4-9df5-a2f8f237ad99",
   "metadata": {
    "tags": []
   },
   "outputs": [
    {
     "data": {
      "text/plain": [
       "'i'"
      ]
     },
     "execution_count": 63,
     "metadata": {},
     "output_type": "execute_result"
    }
   ],
   "source": [
    "name[1]"
   ]
  },
  {
   "cell_type": "code",
   "execution_count": 64,
   "id": "4e1f58ac-c3d8-40ed-b7a1-331e1b52d3e4",
   "metadata": {
    "tags": []
   },
   "outputs": [],
   "source": [
    "# Can also use negative indexing\n",
    "# negative Indexing\n",
    "# Name = Michael Jackson\n",
    "#        -15|-14|-13|-12|-11|-10|-9| |-7|-6|-5|-4|-3|-2|-1\n",
    "name = \"michael jackson\""
   ]
  },
  {
   "cell_type": "code",
   "execution_count": 65,
   "id": "b3a374b9-6ea3-41a6-bfa5-9ff69cdc5aad",
   "metadata": {
    "tags": []
   },
   "outputs": [
    {
     "data": {
      "text/plain": [
       "'k'"
      ]
     },
     "execution_count": 65,
     "metadata": {},
     "output_type": "execute_result"
    }
   ],
   "source": [
    "name[-4]"
   ]
  },
  {
   "cell_type": "code",
   "execution_count": 66,
   "id": "c22f57b0-9d17-4528-8305-05f6fbf0471f",
   "metadata": {
    "tags": []
   },
   "outputs": [
    {
     "data": {
      "text/plain": [
       "'m'"
      ]
     },
     "execution_count": 66,
     "metadata": {},
     "output_type": "execute_result"
    }
   ],
   "source": [
    "name[-15]"
   ]
  },
  {
   "cell_type": "markdown",
   "id": "3c61c3ef-9656-4e55-91a4-5caf35530f45",
   "metadata": {},
   "source": [
    "#### Slicing\n",
    "- We can select a range of elements"
   ]
  },
  {
   "cell_type": "code",
   "execution_count": 67,
   "id": "ae9ed456-831e-4f05-96b3-5616c2f97e11",
   "metadata": {
    "tags": []
   },
   "outputs": [
    {
     "data": {
      "text/plain": [
       "'chael '"
      ]
     },
     "execution_count": 67,
     "metadata": {},
     "output_type": "execute_result"
    }
   ],
   "source": [
    "name[2:8]"
   ]
  },
  {
   "cell_type": "code",
   "execution_count": 68,
   "id": "bb9892d8-7078-4189-9248-86faef42d1d5",
   "metadata": {
    "tags": []
   },
   "outputs": [],
   "source": [
    "# If we also input a Stride value"
   ]
  },
  {
   "cell_type": "code",
   "execution_count": 69,
   "id": "8363a00d-d10d-4cad-944e-3133d2b239f5",
   "metadata": {
    "tags": []
   },
   "outputs": [
    {
     "data": {
      "text/plain": [
       "'mcaljcsn'"
      ]
     },
     "execution_count": 69,
     "metadata": {},
     "output_type": "execute_result"
    }
   ],
   "source": [
    "#The two indicates we select every secound variable\n",
    "name[::2]"
   ]
  },
  {
   "cell_type": "code",
   "execution_count": 70,
   "id": "c529392f-a00a-40c5-8e70-ffed9b5368fa",
   "metadata": {
    "tags": []
   },
   "outputs": [
    {
     "data": {
      "text/plain": [
       "'mca'"
      ]
     },
     "execution_count": 70,
     "metadata": {},
     "output_type": "execute_result"
    }
   ],
   "source": [
    "# We can also incorprate slicing\n",
    "name[0:5:2]"
   ]
  },
  {
   "cell_type": "code",
   "execution_count": 71,
   "id": "1d4416db-101a-4770-98b5-0659efa5c596",
   "metadata": {
    "tags": []
   },
   "outputs": [],
   "source": [
    "# can use the length command len() to find the length of the tuple or string"
   ]
  },
  {
   "cell_type": "code",
   "execution_count": 72,
   "id": "9e1e94f0-b90e-4312-8ed0-30461d930a93",
   "metadata": {
    "tags": []
   },
   "outputs": [
    {
     "data": {
      "text/plain": [
       "15"
      ]
     },
     "execution_count": 72,
     "metadata": {},
     "output_type": "execute_result"
    }
   ],
   "source": [
    "len(name)"
   ]
  },
  {
   "cell_type": "markdown",
   "id": "089695d7-c0c5-4e2b-a79a-42158ca89c05",
   "metadata": {},
   "source": [
    "### Concatenate or combine strings"
   ]
  },
  {
   "cell_type": "code",
   "execution_count": 75,
   "id": "dab28636-e227-4edc-b10b-2b593be20489",
   "metadata": {
    "tags": []
   },
   "outputs": [],
   "source": [
    "\n",
    "statement = name + \" is cool\""
   ]
  },
  {
   "cell_type": "code",
   "execution_count": 76,
   "id": "f1b365df-952d-46ce-ade7-9cfbef78f30f",
   "metadata": {
    "tags": []
   },
   "outputs": [
    {
     "name": "stdout",
     "output_type": "stream",
     "text": [
      "michael jackson is cool\n"
     ]
    }
   ],
   "source": [
    "print(statement)"
   ]
  },
  {
   "cell_type": "code",
   "execution_count": 73,
   "id": "d8cd15b7-5c3c-4ee1-8678-13a84893718a",
   "metadata": {
    "tags": []
   },
   "outputs": [
    {
     "data": {
      "text/plain": [
       "11"
      ]
     },
     "execution_count": 73,
     "metadata": {},
     "output_type": "execute_result"
    }
   ],
   "source": [
    "len(\"Hello World\")"
   ]
  },
  {
   "cell_type": "code",
   "execution_count": 77,
   "id": "68a8b329-1421-4c65-8fce-dce24f9f5005",
   "metadata": {
    "tags": []
   },
   "outputs": [],
   "source": [
    "#### replicate the value of a string"
   ]
  },
  {
   "cell_type": "code",
   "execution_count": 78,
   "id": "c961e110-2d4b-4560-b15f-72105ecd014b",
   "metadata": {
    "tags": []
   },
   "outputs": [
    {
     "data": {
      "text/plain": [
       "'michael jacksonmichael jacksonmichael jackson'"
      ]
     },
     "execution_count": 78,
     "metadata": {},
     "output_type": "execute_result"
    }
   ],
   "source": [
    "name * 3"
   ]
  },
  {
   "cell_type": "code",
   "execution_count": 79,
   "id": "5148c840-4756-4c40-afe3-ec1692939069",
   "metadata": {
    "tags": []
   },
   "outputs": [
    {
     "data": {
      "text/plain": [
       "'hello worldhello worldhello world'"
      ]
     },
     "execution_count": 79,
     "metadata": {},
     "output_type": "execute_result"
    }
   ],
   "source": [
    "\"hello world\" * 3"
   ]
  },
  {
   "cell_type": "markdown",
   "id": "98147d57-3905-45ad-9f66-13cde89aafce",
   "metadata": {},
   "source": [
    "#### Escape sequences\n",
    "- \\ are meant to process escape sequences\n",
    "- escape sequences are strings that are difficult to input"
   ]
  },
  {
   "cell_type": "code",
   "execution_count": 80,
   "id": "e7d45530-251b-4de8-8525-c4d36d27fd7f",
   "metadata": {
    "tags": []
   },
   "outputs": [
    {
     "name": "stdout",
     "output_type": "stream",
     "text": [
      "Michael Jackson \n",
      " is the best\n"
     ]
    }
   ],
   "source": [
    "# /n represents enter\n",
    "print(\"Michael Jackson \\n is the best\")"
   ]
  },
  {
   "cell_type": "code",
   "execution_count": 81,
   "id": "78c7b44e-29f3-4e53-bb38-aafeaa76da4c",
   "metadata": {
    "tags": []
   },
   "outputs": [
    {
     "name": "stdout",
     "output_type": "stream",
     "text": [
      "Michael Jackson \t is the best\n"
     ]
    }
   ],
   "source": [
    "# /t represents Tab\n",
    "print(\"Michael Jackson \\t is the best\")"
   ]
  },
  {
   "cell_type": "code",
   "execution_count": 82,
   "id": "05c5faa0-d149-4151-a6a7-e936c8fcdbee",
   "metadata": {
    "tags": []
   },
   "outputs": [
    {
     "name": "stdout",
     "output_type": "stream",
     "text": [
      "Michael Jackson \\ is the best\n"
     ]
    }
   ],
   "source": [
    "# if you want to and a backslash to your string \n",
    "print(\"Michael Jackson \\\\ is the best\")"
   ]
  },
  {
   "cell_type": "code",
   "execution_count": null,
   "id": "07ec42b3-a53a-4299-86dc-72ce1c1af8b9",
   "metadata": {},
   "outputs": [],
   "source": []
  }
 ],
 "metadata": {
  "kernelspec": {
   "display_name": "Python 3 (ipykernel)",
   "language": "python",
   "name": "python3"
  },
  "language_info": {
   "codemirror_mode": {
    "name": "ipython",
    "version": 3
   },
   "file_extension": ".py",
   "mimetype": "text/x-python",
   "name": "python",
   "nbconvert_exporter": "python",
   "pygments_lexer": "ipython3",
   "version": "3.11.4"
  }
 },
 "nbformat": 4,
 "nbformat_minor": 5
}
